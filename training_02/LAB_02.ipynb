{
 "cells": [
  {
   "cell_type": "markdown",
   "metadata": {},
   "source": [
    "Example 1\n"
   ]
  },
  {
   "cell_type": "code",
   "execution_count": 1,
   "metadata": {},
   "outputs": [
    {
     "ename": "TypeError",
     "evalue": "can't multiply sequence by non-int of type 'list'",
     "output_type": "error",
     "traceback": [
      "\u001b[1;31m---------------------------------------------------------------------------\u001b[0m",
      "\u001b[1;31mTypeError\u001b[0m                                 Traceback (most recent call last)",
      "\u001b[1;32mUntitled-1.ipynb Cell 2\u001b[0m line \u001b[0;36m4\n\u001b[0;32m      <a href='vscode-notebook-cell:Untitled-1.ipynb?jupyter-notebook#W0sdW50aXRsZWQ%3D?line=0'>1</a>\u001b[0m l1 \u001b[39m=\u001b[39m [\u001b[39m1\u001b[39m,\u001b[39m2\u001b[39m,\u001b[39m3\u001b[39m]\n\u001b[0;32m      <a href='vscode-notebook-cell:Untitled-1.ipynb?jupyter-notebook#W0sdW50aXRsZWQ%3D?line=1'>2</a>\u001b[0m l2 \u001b[39m=\u001b[39m [\u001b[39m4\u001b[39m,\u001b[39m5\u001b[39m,\u001b[39m6\u001b[39m]\n\u001b[1;32m----> <a href='vscode-notebook-cell:Untitled-1.ipynb?jupyter-notebook#W0sdW50aXRsZWQ%3D?line=3'>4</a>\u001b[0m l1\u001b[39m*\u001b[39ml2\n",
      "\u001b[1;31mTypeError\u001b[0m: can't multiply sequence by non-int of type 'list'"
     ]
    }
   ],
   "source": [
    "l1 = [1,2,3]\n",
    "l2 = [4,5,6]\n",
    "\n",
    "l1*l2"
   ]
  },
  {
   "cell_type": "code",
   "execution_count": 2,
   "metadata": {},
   "outputs": [
    {
     "name": "stdout",
     "output_type": "stream",
     "text": [
      "[1 2 3] * [4 5 6] = [ 4 10 18]\n"
     ]
    }
   ],
   "source": [
    "import numpy as np\n",
    "\n",
    "l1 = [1,2,3]\n",
    "l2 = [4,5,6]\n",
    "\n",
    "A1 = np.array(l1)\n",
    "A2 = np.array(l2)\n",
    "\n",
    "print(f\"{A1} * {A2} = {A1*A2}\")"
   ]
  },
  {
   "cell_type": "code",
   "execution_count": null,
   "metadata": {},
   "outputs": [],
   "source": []
  },
  {
   "cell_type": "markdown",
   "metadata": {},
   "source": [
    "Example 02\n",
    "Demonstrate the use of numpy.dtype and numpy.shape() functions"
   ]
  },
  {
   "cell_type": "code",
   "execution_count": 4,
   "metadata": {},
   "outputs": [
    {
     "name": "stdout",
     "output_type": "stream",
     "text": [
      "[1 2 3] * [4 5 6] = [ 4 10 18]\n",
      "The type of array using type: <class 'numpy.ndarray'>\n",
      "The type of array using dtype: int32\n",
      "The dimension of an array: (3,)\n"
     ]
    }
   ],
   "source": [
    "import numpy as np\n",
    "\n",
    "l1 = [1,2,3]\n",
    "l2 = [4,5,6]\n",
    "\n",
    "A1 = np.array(l1)\n",
    "A2 = np.array(l2)\n",
    "\n",
    "A = A1*A2\n",
    "\n",
    "print(f\"{A1} * {A2} = {A}\")\n",
    "\n",
    "print(f\"The type of array using type: {type(A)}\")\n",
    "print(f\"The type of array using dtype: {A.dtype}\") # no () with dtype because it is an attribute of A not a function\n",
    "\n",
    "print(f\"The dimension of an array: {A.shape}\")"
   ]
  },
  {
   "cell_type": "markdown",
   "metadata": {},
   "source": [
    "Example 03\n",
    "The size of an array created with numpy.array() is int32 convert it to int 8"
   ]
  },
  {
   "cell_type": "code",
   "execution_count": 6,
   "metadata": {},
   "outputs": [
    {
     "name": "stdout",
     "output_type": "stream",
     "text": [
      "[1 2 3] * [4 5 6] = [ 4 10 18]\n",
      "The type of array using type: <class 'numpy.ndarray'>\n",
      "The type of array using dtype: int8\n",
      "The dimension of an array: (3,)\n"
     ]
    }
   ],
   "source": [
    "import numpy as np\n",
    "\n",
    "l1 = [1,2,3]\n",
    "l2 = [4,5,6]\n",
    "\n",
    "A1 = np.array(l1, np.int8)\n",
    "A2 = np.array(l2, np.int8)\n",
    "\n",
    "A = A1*A2\n",
    "\n",
    "print(f\"{A1} * {A2} = {A}\")\n",
    "\n",
    "print(f\"The type of array using type: {type(A)}\")\n",
    "print(f\"The type of array using dtype: {A.dtype}\") # no () with dtype because it is an attribute of A not a function\n",
    "\n",
    "print(f\"The dimension of an array: {A.shape}\")"
   ]
  },
  {
   "cell_type": "markdown",
   "metadata": {},
   "source": []
  },
  {
   "cell_type": "markdown",
   "metadata": {},
   "source": [
    "Example 04\n",
    "Demonstrate the use of numpy.size() functions"
   ]
  },
  {
   "cell_type": "code",
   "execution_count": 7,
   "metadata": {},
   "outputs": [
    {
     "name": "stdout",
     "output_type": "stream",
     "text": [
      "[1 2 3] * [4 5 6] = [ 4 10 18]\n",
      "The type of array using type: <class 'numpy.ndarray'>\n",
      "The type of array using dtype: int8\n",
      "The dimension of an array: (3,)\n",
      "The size of an array: 3\n"
     ]
    }
   ],
   "source": [
    "import numpy as np\n",
    "\n",
    "l1 = [1,2,3]\n",
    "l2 = [4,5,6]\n",
    "\n",
    "A1 = np.array(l1, np.int8)\n",
    "A2 = np.array(l2, np.int8)\n",
    "\n",
    "A = A1*A2\n",
    "\n",
    "print(f\"{A1} * {A2} = {A}\")\n",
    "\n",
    "print(f\"The type of array using type: {type(A)}\")\n",
    "print(f\"The type of array using dtype: {A.dtype}\") # no () with dtype because it is an attribute of A not a function\n",
    "\n",
    "print(f\"The dimension of an array: {A.shape}\")\n",
    "\n",
    "print(f\"The size of an array: {A.size}\") # The size attrubute counts the total element in the array"
   ]
  },
  {
   "cell_type": "markdown",
   "metadata": {},
   "source": [
    "Example 05\n",
    "Create a 2D array using numpy.array()"
   ]
  },
  {
   "cell_type": "code",
   "execution_count": 8,
   "metadata": {},
   "outputs": [
    {
     "name": "stdout",
     "output_type": "stream",
     "text": [
      " The 2D array is : \n",
      " [[1 2 3]\n",
      " [4 5 6]]\n",
      "The type of array using type: <class 'numpy.ndarray'>\n",
      "The type of array using dtype: int32\n",
      "The dimension of an array: (2, 3)\n",
      "The size of an array: 6\n"
     ]
    }
   ],
   "source": [
    "import numpy as np\n",
    "\n",
    "l1 = [1,2,3]\n",
    "l2 = [4,5,6]\n",
    "\n",
    "A = np.array((l1, l2))\n",
    "print(f\" The 2D array is : \\n {A}\")\n",
    "\n",
    "print(f\"The type of array using type: {type(A)}\")\n",
    "print(f\"The type of array using dtype: {A.dtype}\") # no () with dtype because it is an attribute of A not a function\n",
    "\n",
    "print(f\"The dimension of an array: {A.shape}\")\n",
    "\n",
    "print(f\"The size of an array: {A.size}\") # The size attrubute counts the total element in the array"
   ]
  },
  {
   "cell_type": "markdown",
   "metadata": {},
   "source": [
    "Example 06\n",
    "Create a 1 D array by passing a list"
   ]
  },
  {
   "cell_type": "code",
   "execution_count": 9,
   "metadata": {},
   "outputs": [
    {
     "name": "stdout",
     "output_type": "stream",
     "text": [
      " The 1D array is : \n",
      " [1 2 3 4 5]\n",
      "The type of array using type: <class 'numpy.ndarray'>\n",
      "The type of array using dtype: int32\n",
      "The dimension of an array: (5,)\n",
      "The size of an array: 5\n"
     ]
    }
   ],
   "source": [
    "A = np.array(([1,2,3,4,5]))\n",
    "print(f\" The 1D array is : \\n {A}\")\n",
    "\n",
    "print(f\"The type of array using type: {type(A)}\")\n",
    "print(f\"The type of array using dtype: {A.dtype}\") # no () with dtype because it is an attribute of A not a function\n",
    "\n",
    "print(f\"The dimension of an array: {A.shape}\")\n",
    "\n",
    "print(f\"The size of an array: {A.size}\") # The size attrubute counts the total element in the array\n",
    " "
   ]
  },
  {
   "cell_type": "markdown",
   "metadata": {},
   "source": [
    "Example 07\n",
    "Create a 2 D array by passing lists"
   ]
  },
  {
   "cell_type": "code",
   "execution_count": 10,
   "metadata": {},
   "outputs": [
    {
     "name": "stdout",
     "output_type": "stream",
     "text": [
      " The 2D array is : \n",
      " [[1 2 3 4 5]\n",
      " [2 3 4 5 6]]\n",
      "The type of array using type: <class 'numpy.ndarray'>\n",
      "The type of array using dtype: int32\n",
      "The dimension of an array: (2, 5)\n",
      "The size of an array: 10\n"
     ]
    }
   ],
   "source": [
    "import numpy as np\n",
    "\n",
    "A = np.array(([1,2,3,4,5], [2,3,4,5,6]))\n",
    "print(f\" The 2D array is : \\n {A}\")\n",
    "\n",
    "print(f\"The type of array using type: {type(A)}\")\n",
    "print(f\"The type of array using dtype: {A.dtype}\") # no () with dtype because it is an attribute of A not a function\n",
    "\n",
    "print(f\"The dimension of an array: {A.shape}\")\n",
    "\n",
    "print(f\"The size of an array: {A.size}\") # The size attrubute counts the total element in the array"
   ]
  },
  {
   "cell_type": "markdown",
   "metadata": {},
   "source": [
    "Example 08\n",
    "Create 4 x 4 Matrix"
   ]
  },
  {
   "cell_type": "code",
   "execution_count": 11,
   "metadata": {},
   "outputs": [
    {
     "name": "stdout",
     "output_type": "stream",
     "text": [
      " The array is : \n",
      " [[1 2 3 4]\n",
      " [3 6 3 4]\n",
      " [1 2 9 4]\n",
      " [1 4 5 4]]\n",
      "The type of array using type: <class 'numpy.ndarray'>\n",
      "The type of array using dtype: int32\n",
      "The dimension of an array: (4, 4)\n",
      "The size of an array: 16\n"
     ]
    }
   ],
   "source": [
    "import numpy as np\n",
    "\n",
    "r1 = [1,2,3,4]\n",
    "r2 = [3,6,3,4]\n",
    "r3 = [1,2,9,4]\n",
    "r4 = [1,4,5,4]\n",
    "\n",
    "A = np.array((r1,r2,r3,r4))\n",
    "print(f\" The array is : \\n {A}\")\n",
    "\n",
    "print(f\"The type of array using type: {type(A)}\")\n",
    "print(f\"The type of array using dtype: {A.dtype}\") # no () with dtype because it is an attribute of A not a function\n",
    "\n",
    "print(f\"The dimension of an array: {A.shape}\")\n",
    "\n",
    "print(f\"The size of an array: {A.size}\") # The size attrubute counts the total element in the array"
   ]
  },
  {
   "cell_type": "markdown",
   "metadata": {},
   "source": [
    "Example 09\n",
    "Replace 2nd row 3rd element of above 4x4 matrix with 10"
   ]
  },
  {
   "cell_type": "code",
   "execution_count": 12,
   "metadata": {},
   "outputs": [
    {
     "name": "stdout",
     "output_type": "stream",
     "text": [
      " The original array is : \n",
      " [[1 2 3 4]\n",
      " [3 6 3 4]\n",
      " [1 2 9 4]\n",
      " [1 4 5 4]]\n",
      " The array after replacing : \n",
      " [[ 1  2  3  4]\n",
      " [ 3  6 10  4]\n",
      " [ 1  2  9  4]\n",
      " [ 1  4  5  4]]\n"
     ]
    }
   ],
   "source": [
    "import numpy as np\n",
    "\n",
    "r1 = [1,2,3,4]\n",
    "r2 = [3,6,3,4]\n",
    "r3 = [1,2,9,4]\n",
    "r4 = [1,4,5,4]\n",
    "\n",
    "A = np.array((r1,r2,r3,r4))\n",
    "print(f\" The original array is : \\n {A}\")\n",
    "\n",
    "A[1,2] = 10\n",
    "print(f\" The array after replacing : \\n {A}\")"
   ]
  },
  {
   "cell_type": "markdown",
   "metadata": {},
   "source": [
    "Example 10\n",
    "Create a 5 x 5 matrix of all zeros by setting values of both rows and column"
   ]
  },
  {
   "cell_type": "code",
   "execution_count": 13,
   "metadata": {},
   "outputs": [
    {
     "name": "stdout",
     "output_type": "stream",
     "text": [
      " The array is : \n",
      " [[0. 0. 0. 0. 0.]\n",
      " [0. 0. 0. 0. 0.]\n",
      " [0. 0. 0. 0. 0.]\n",
      " [0. 0. 0. 0. 0.]\n",
      " [0. 0. 0. 0. 0.]]\n",
      "The type of array using type: <class 'numpy.ndarray'>\n",
      "The type of array using dtype: float64\n",
      "The dimension of an array: (5, 5)\n",
      "The size of an array: 25\n"
     ]
    }
   ],
   "source": [
    "import numpy as np\n",
    "\n",
    "A = np.zeros([5,5])\n",
    "print(f\" The array is : \\n {A}\")\n",
    "\n",
    "print(f\"The type of array using type: {type(A)}\")\n",
    "print(f\"The type of array using dtype: {A.dtype}\") # no () with dtype because it is an attribute of A not a function\n",
    "\n",
    "print(f\"The dimension of an array: {A.shape}\")\n",
    "\n",
    "print(f\"The size of an array: {A.size}\") # The size attrubute counts the total element in the array"
   ]
  },
  {
   "cell_type": "markdown",
   "metadata": {},
   "source": [
    "Example 11\n",
    "Create a 5 x 5 matrix of all zeros by passing only 1 argument"
   ]
  },
  {
   "cell_type": "code",
   "execution_count": 14,
   "metadata": {},
   "outputs": [
    {
     "name": "stdout",
     "output_type": "stream",
     "text": [
      " The array is : \n",
      " [0. 0. 0. 0. 0.]\n",
      "The type of array using type: <class 'numpy.ndarray'>\n",
      "The type of array using dtype: float64\n",
      "The dimension of an array: (5,)\n",
      "The size of an array: 5\n"
     ]
    }
   ],
   "source": [
    "import numpy as np\n",
    "\n",
    "A = np.zeros([5])\n",
    "print(f\" The array is : \\n {A}\")\n",
    "\n",
    "print(f\"The type of array using type: {type(A)}\")\n",
    "print(f\"The type of array using dtype: {A.dtype}\") # no () with dtype because it is an attribute of A not a function\n",
    "\n",
    "print(f\"The dimension of an array: {A.shape}\")\n",
    "\n",
    "print(f\"The size of an array: {A.size}\") # The size attrubute counts the total element in the array"
   ]
  },
  {
   "cell_type": "markdown",
   "metadata": {},
   "source": [
    "Example 12\n",
    "Create an array from 1 to 100 by numpy.arrange()"
   ]
  },
  {
   "cell_type": "code",
   "execution_count": 16,
   "metadata": {},
   "outputs": [
    {
     "name": "stdout",
     "output_type": "stream",
     "text": [
      " The array is : \n",
      " [  1   2   3   4   5   6   7   8   9  10  11  12  13  14  15  16  17  18\n",
      "  19  20  21  22  23  24  25  26  27  28  29  30  31  32  33  34  35  36\n",
      "  37  38  39  40  41  42  43  44  45  46  47  48  49  50  51  52  53  54\n",
      "  55  56  57  58  59  60  61  62  63  64  65  66  67  68  69  70  71  72\n",
      "  73  74  75  76  77  78  79  80  81  82  83  84  85  86  87  88  89  90\n",
      "  91  92  93  94  95  96  97  98  99 100]\n",
      "The type of array using type: <class 'numpy.ndarray'>\n",
      "The type of array using dtype: int32\n",
      "The dimension of an array: (100,)\n",
      "The size of an array: 100\n"
     ]
    }
   ],
   "source": [
    "import numpy as np\n",
    "\n",
    "A = np.arange(1,101)\n",
    "print(f\" The array is : \\n {A}\")\n",
    "\n",
    "print(f\"The type of array using type: {type(A)}\")\n",
    "print(f\"The type of array using dtype: {A.dtype}\") # no () with dtype because it is an attribute of A not a function\n",
    "\n",
    "print(f\"The dimension of an array: {A.shape}\")\n",
    "\n",
    "print(f\"The size of an array: {A.size}\") # The size attrubute counts the total element in the array"
   ]
  },
  {
   "cell_type": "markdown",
   "metadata": {},
   "source": [
    "Example 13\n",
    "Create an array from 1 to 100 by numpy.arrange() with a stepsize of 10"
   ]
  },
  {
   "cell_type": "code",
   "execution_count": 18,
   "metadata": {},
   "outputs": [
    {
     "name": "stdout",
     "output_type": "stream",
     "text": [
      " The array is : \n",
      " [ 1 11 21 31 41 51 61 71 81 91]\n",
      "The type of array using type: <class 'numpy.ndarray'>\n",
      "The type of array using dtype: int32\n",
      "The dimension of an array: (10,)\n",
      "The size of an array: 10\n"
     ]
    }
   ],
   "source": [
    "import numpy as np\n",
    "\n",
    "A = np.arange(1,100,10)\n",
    "print(f\" The array is : \\n {A}\")\n",
    "\n",
    "print(f\"The type of array using type: {type(A)}\")\n",
    "print(f\"The type of array using dtype: {A.dtype}\") # no () with dtype because it is an attribute of A not a function\n",
    "\n",
    "print(f\"The dimension of an array: {A.shape}\")\n",
    "\n",
    "print(f\"The size of an array: {A.size}\") # The size attrubute counts the total element in the array"
   ]
  },
  {
   "cell_type": "markdown",
   "metadata": {},
   "source": [
    "Example 14\n",
    "Create an array of 100 elements ranging from 2 to 3"
   ]
  },
  {
   "cell_type": "code",
   "execution_count": 19,
   "metadata": {},
   "outputs": [
    {
     "name": "stdout",
     "output_type": "stream",
     "text": [
      " The array is : \n",
      " [2.         2.01010101 2.02020202 2.03030303 2.04040404 2.05050505\n",
      " 2.06060606 2.07070707 2.08080808 2.09090909 2.1010101  2.11111111\n",
      " 2.12121212 2.13131313 2.14141414 2.15151515 2.16161616 2.17171717\n",
      " 2.18181818 2.19191919 2.2020202  2.21212121 2.22222222 2.23232323\n",
      " 2.24242424 2.25252525 2.26262626 2.27272727 2.28282828 2.29292929\n",
      " 2.3030303  2.31313131 2.32323232 2.33333333 2.34343434 2.35353535\n",
      " 2.36363636 2.37373737 2.38383838 2.39393939 2.4040404  2.41414141\n",
      " 2.42424242 2.43434343 2.44444444 2.45454545 2.46464646 2.47474747\n",
      " 2.48484848 2.49494949 2.50505051 2.51515152 2.52525253 2.53535354\n",
      " 2.54545455 2.55555556 2.56565657 2.57575758 2.58585859 2.5959596\n",
      " 2.60606061 2.61616162 2.62626263 2.63636364 2.64646465 2.65656566\n",
      " 2.66666667 2.67676768 2.68686869 2.6969697  2.70707071 2.71717172\n",
      " 2.72727273 2.73737374 2.74747475 2.75757576 2.76767677 2.77777778\n",
      " 2.78787879 2.7979798  2.80808081 2.81818182 2.82828283 2.83838384\n",
      " 2.84848485 2.85858586 2.86868687 2.87878788 2.88888889 2.8989899\n",
      " 2.90909091 2.91919192 2.92929293 2.93939394 2.94949495 2.95959596\n",
      " 2.96969697 2.97979798 2.98989899 3.        ]\n",
      "The type of array using type: <class 'numpy.ndarray'>\n",
      "The type of array using dtype: float64\n",
      "The dimension of an array: (100,)\n",
      "The size of an array: 100\n"
     ]
    }
   ],
   "source": [
    "import numpy as np\n",
    "\n",
    "A = np.linspace(2,3,100)\n",
    "print(f\" The array is : \\n {A}\")\n",
    "\n",
    "print(f\"The type of array using type: {type(A)}\")\n",
    "print(f\"The type of array using dtype: {A.dtype}\") # no () with dtype because it is an attribute of A not a function\n",
    "\n",
    "print(f\"The dimension of an array: {A.shape}\")\n",
    "\n",
    "print(f\"The size of an array: {A.size}\") # The size attrubute counts the total element in the array"
   ]
  },
  {
   "cell_type": "markdown",
   "metadata": {},
   "source": [
    "Example 15\n",
    "Create identity matrix"
   ]
  },
  {
   "cell_type": "code",
   "execution_count": 20,
   "metadata": {},
   "outputs": [
    {
     "name": "stdout",
     "output_type": "stream",
     "text": [
      " The array is : \n",
      " [[1. 0. 0. 0. 0.]\n",
      " [0. 1. 0. 0. 0.]\n",
      " [0. 0. 1. 0. 0.]\n",
      " [0. 0. 0. 1. 0.]\n",
      " [0. 0. 0. 0. 1.]]\n",
      "The type of array using type: <class 'numpy.ndarray'>\n",
      "The type of array using dtype: float64\n",
      "The dimension of an array: (5, 5)\n",
      "The size of an array: 25\n"
     ]
    }
   ],
   "source": [
    "import numpy as np\n",
    "\n",
    "A = np.identity(5)\n",
    "print(f\" The array is : \\n {A}\")\n",
    "\n",
    "print(f\"The type of array using type: {type(A)}\")\n",
    "print(f\"The type of array using dtype: {A.dtype}\") # no () with dtype because it is an attribute of A not a function\n",
    "\n",
    "print(f\"The dimension of an array: {A.shape}\")\n",
    "\n",
    "print(f\"The size of an array: {A.size}\") # The size attrubute counts the total element in the array"
   ]
  },
  {
   "cell_type": "markdown",
   "metadata": {},
   "source": [
    "Example 16\n",
    "Create a 4 x 4 matrix and find the sum of all columns"
   ]
  },
  {
   "cell_type": "code",
   "execution_count": 21,
   "metadata": {},
   "outputs": [
    {
     "name": "stdout",
     "output_type": "stream",
     "text": [
      " The Matrix is : \n",
      " [[1 2 3 4]\n",
      " [3 6 3 4]\n",
      " [1 2 9 4]\n",
      " [1 4 5 4]]\n",
      " The row wise sum is : [10 16 16 14]\n",
      " The column wise sum is : [ 6 14 20 16]\n",
      "The type of array using type: <class 'numpy.ndarray'>\n",
      "The type of array using dtype: int32\n",
      "The dimension of an array: (4, 4)\n",
      "The size of an array: 16\n"
     ]
    }
   ],
   "source": [
    "import numpy as np\n",
    "\n",
    "r1 = [1,2,3,4]\n",
    "r2 = [3,6,3,4]\n",
    "r3 = [1,2,9,4]\n",
    "r4 = [1,4,5,4]\n",
    "\n",
    "A = np.array((r1,r2,r3,r4))\n",
    "print(f\" The Matrix is : \\n {A}\")\n",
    "\n",
    "print(f\" The row wise sum is : {A.sum(axis=1)}\")\n",
    "print(f\" The column wise sum is : {A.sum(axis=0)}\")\n",
    "\n",
    "print(f\"The type of array using type: {type(A)}\")\n",
    "print(f\"The type of array using dtype: {A.dtype}\") # no () with dtype because it is an attribute of A not a function\n",
    "\n",
    "print(f\"The dimension of an array: {A.shape}\")\n",
    "\n",
    "print(f\"The size of an array: {A.size}\") # The size attrubute counts the total element in the array"
   ]
  },
  {
   "cell_type": "markdown",
   "metadata": {},
   "source": [
    "Example 17\n",
    "Find the transpose of a Matrix"
   ]
  },
  {
   "cell_type": "code",
   "execution_count": 22,
   "metadata": {},
   "outputs": [
    {
     "name": "stdout",
     "output_type": "stream",
     "text": [
      " The Matrix is : \n",
      " [[1 2 3 4]\n",
      " [3 6 3 4]\n",
      " [1 2 9 4]\n",
      " [1 4 5 4]]\n",
      " The transpose is : \n",
      " [[1 3 1 1]\n",
      " [2 6 2 4]\n",
      " [3 3 9 5]\n",
      " [4 4 4 4]]\n"
     ]
    }
   ],
   "source": [
    "import numpy as np\n",
    "\n",
    "r1 = [1,2,3,4]\n",
    "r2 = [3,6,3,4]\n",
    "r3 = [1,2,9,4]\n",
    "r4 = [1,4,5,4]\n",
    "\n",
    "A = np.array((r1,r2,r3,r4))\n",
    "print(f\" The Matrix is : \\n {A}\")\n",
    "\n",
    "print(f\" The transpose is : \\n {A.T}\")"
   ]
  },
  {
   "cell_type": "markdown",
   "metadata": {},
   "source": [
    "Example 18\n",
    "Use reshape command to convrt 4 x 4 matrix to 8 x 2"
   ]
  },
  {
   "cell_type": "code",
   "execution_count": 23,
   "metadata": {},
   "outputs": [
    {
     "name": "stdout",
     "output_type": "stream",
     "text": [
      " The 4x4 Matrix is : \n",
      " [[1 2 3 4]\n",
      " [3 6 3 4]\n",
      " [1 2 9 4]\n",
      " [1 4 5 4]]\n",
      " The 8x2 matrix: \n",
      " [[1 2]\n",
      " [3 4]\n",
      " [3 6]\n",
      " [3 4]\n",
      " [1 2]\n",
      " [9 4]\n",
      " [1 4]\n",
      " [5 4]]\n"
     ]
    }
   ],
   "source": [
    "import numpy as np\n",
    "\n",
    "r1 = [1,2,3,4]\n",
    "r2 = [3,6,3,4]\n",
    "r3 = [1,2,9,4]\n",
    "r4 = [1,4,5,4]\n",
    "\n",
    "A = np.array((r1,r2,r3,r4))\n",
    "print(f\" The 4x4 Matrix is : \\n {A}\")\n",
    "\n",
    "print(f\" The 8x2 matrix: \\n {A.reshape(8,2)}\")"
   ]
  },
  {
   "cell_type": "markdown",
   "metadata": {},
   "source": [
    "Example 19\n",
    "Demonstrate the use of numpy.ravel()"
   ]
  },
  {
   "cell_type": "code",
   "execution_count": 24,
   "metadata": {},
   "outputs": [
    {
     "name": "stdout",
     "output_type": "stream",
     "text": [
      " The 4x4 Matrix is : \n",
      " [[1 2 3 4]\n",
      " [3 6 3 4]\n",
      " [1 2 9 4]\n",
      " [1 4 5 4]]\n",
      " The 1D array from above matrix using ravel: \n",
      " [1 2 3 4 3 6 3 4 1 2 9 4 1 4 5 4]\n"
     ]
    }
   ],
   "source": [
    "import numpy as np\n",
    "\n",
    "r1 = [1,2,3,4]\n",
    "r2 = [3,6,3,4]\n",
    "r3 = [1,2,9,4]\n",
    "r4 = [1,4,5,4]\n",
    "\n",
    "A = np.array((r1,r2,r3,r4))\n",
    "print(f\" The 4x4 Matrix is : \\n {A}\")\n",
    "\n",
    "print(f\" The 1D array from above matrix using ravel: \\n {A.ravel()}\")"
   ]
  },
  {
   "cell_type": "markdown",
   "metadata": {},
   "source": [
    "Example 20\n",
    "Demonstrate the use of argmax, argmin,argsort"
   ]
  },
  {
   "cell_type": "code",
   "execution_count": 25,
   "metadata": {},
   "outputs": [
    {
     "name": "stdout",
     "output_type": "stream",
     "text": [
      "The original array: [ 1 16 31  4]\n",
      "The index of maximum value in array is: 2\n",
      "The index of minimum value in array is: 0\n",
      "Sorted Indexes: [0 3 1 2]\n"
     ]
    }
   ],
   "source": [
    "import numpy as np\n",
    "\n",
    "a = [1, 16, 31, 4]\n",
    "\n",
    "A = np.array(a)\n",
    "print(f\"The original array: {A}\")\n",
    "\n",
    "print(f\"The index of maximum value in array is: {A.argmax()}\")\n",
    "print(f\"The index of minimum value in array is: {A.argmin()}\")\n",
    "print(f\"Sorted Indexes: {A.argsort()}\")"
   ]
  },
  {
   "cell_type": "markdown",
   "metadata": {},
   "source": [
    "Example 21\n",
    "Demostrate the use of numpy.full(),vstack(),hstack(),column_stack()"
   ]
  },
  {
   "cell_type": "code",
   "execution_count": 26,
   "metadata": {},
   "outputs": [
    {
     "data": {
      "text/plain": [
       "array([[5, 5],\n",
       "       [5, 5]])"
      ]
     },
     "execution_count": 26,
     "metadata": {},
     "output_type": "execute_result"
    }
   ],
   "source": [
    "import numpy as np\n",
    "\n",
    "f1=np.full((2,2),5)\n",
    "f1"
   ]
  },
  {
   "cell_type": "code",
   "execution_count": 27,
   "metadata": {},
   "outputs": [
    {
     "data": {
      "text/plain": [
       "array([[3, 3],\n",
       "       [3, 3]])"
      ]
     },
     "execution_count": 27,
     "metadata": {},
     "output_type": "execute_result"
    }
   ],
   "source": [
    "f2 = np.full((2,2), 3)\n",
    "f2"
   ]
  },
  {
   "cell_type": "code",
   "execution_count": 28,
   "metadata": {},
   "outputs": [
    {
     "data": {
      "text/plain": [
       "array([[5, 5],\n",
       "       [5, 5],\n",
       "       [3, 3],\n",
       "       [3, 3]])"
      ]
     },
     "execution_count": 28,
     "metadata": {},
     "output_type": "execute_result"
    }
   ],
   "source": [
    "a = np.vstack([f1, f2])\n",
    "a"
   ]
  },
  {
   "cell_type": "code",
   "execution_count": 29,
   "metadata": {},
   "outputs": [
    {
     "data": {
      "text/plain": [
       "array([[5, 5, 3, 3],\n",
       "       [5, 5, 3, 3]])"
      ]
     },
     "execution_count": 29,
     "metadata": {},
     "output_type": "execute_result"
    }
   ],
   "source": [
    "b = np.hstack([f1, f2])\n",
    "b"
   ]
  },
  {
   "cell_type": "code",
   "execution_count": 30,
   "metadata": {},
   "outputs": [
    {
     "data": {
      "text/plain": [
       "array([[5, 5, 3, 3],\n",
       "       [5, 5, 3, 3]])"
      ]
     },
     "execution_count": 30,
     "metadata": {},
     "output_type": "execute_result"
    }
   ],
   "source": [
    "a = np.column_stack([f1, f2])\n",
    "a"
   ]
  },
  {
   "cell_type": "markdown",
   "metadata": {},
   "source": [
    "Example 22\n",
    "Save and load a matrix in the memory"
   ]
  },
  {
   "cell_type": "code",
   "execution_count": 31,
   "metadata": {},
   "outputs": [
    {
     "data": {
      "text/plain": [
       "array([[5, 5, 5],\n",
       "       [5, 5, 5]])"
      ]
     },
     "execution_count": 31,
     "metadata": {},
     "output_type": "execute_result"
    }
   ],
   "source": [
    "import numpy as np\n",
    "\n",
    "a = np.full((2,3), 5)\n",
    "a"
   ]
  },
  {
   "cell_type": "code",
   "execution_count": 32,
   "metadata": {},
   "outputs": [],
   "source": [
    "np.save(\"untitled.npy\", a)"
   ]
  },
  {
   "cell_type": "code",
   "execution_count": 33,
   "metadata": {},
   "outputs": [
    {
     "data": {
      "text/plain": [
       "array([[5, 5, 5],\n",
       "       [5, 5, 5]])"
      ]
     },
     "execution_count": 33,
     "metadata": {},
     "output_type": "execute_result"
    }
   ],
   "source": [
    "savedMatrix = np.load('untitled.npy')\n",
    "savedMatrix"
   ]
  },
  {
   "cell_type": "markdown",
   "metadata": {},
   "source": [
    "Example 23\n",
    "Demonstrate the use of numoy.dot() and compare it with simple multiplication"
   ]
  },
  {
   "cell_type": "code",
   "execution_count": 34,
   "metadata": {},
   "outputs": [
    {
     "name": "stdout",
     "output_type": "stream",
     "text": [
      "\n",
      "f1 = \n",
      " [[5 5]\n",
      " [5 5]]\n",
      "\n",
      "f2 = \n",
      " [[3 3]\n",
      " [3 3]]\n",
      "point to point multiplication =  [[15 15]\n",
      " [15 15]]\n",
      "point to point multiplication =  [[30 30]\n",
      " [30 30]]\n"
     ]
    }
   ],
   "source": [
    "import numpy as np\n",
    "\n",
    "f1=np. full((2,2),5)\n",
    "print(\"\\nf1 = \\n\",f1)\n",
    "\n",
    "f2=np.full((2,2), 3)\n",
    "print(\"\\nf2 = \\n\", f2)\n",
    "\n",
    "print(\"point to point multiplication = \",f1*f2)\n",
    "\n",
    "print(\"point to point multiplication = \", np.dot(f1,f2))"
   ]
  },
  {
   "cell_type": "code",
   "execution_count": null,
   "metadata": {},
   "outputs": [],
   "source": []
  },
  {
   "cell_type": "markdown",
   "metadata": {},
   "source": [
    "02. Pandas\n",
    "Example 01\n",
    "Create a Dictionary and convert them into data frames also check its datatype"
   ]
  },
  {
   "cell_type": "code",
   "execution_count": 35,
   "metadata": {},
   "outputs": [
    {
     "data": {
      "text/plain": [
       "{'Name': ['Aqsa',\n",
       "  'Esha',\n",
       "  'Ayesha',\n",
       "  'Ayra',\n",
       "  'Arfa',\n",
       "  'Afsa',\n",
       "  'Abdul',\n",
       "  'Saadia',\n",
       "  'Abu Bakar',\n",
       "  'Atif'],\n",
       " 'ID': ['SID-1',\n",
       "  'SID-2',\n",
       "  'SID-3',\n",
       "  'SID-4',\n",
       "  'SID-5',\n",
       "  'SID-6',\n",
       "  'SID-7',\n",
       "  'SID-8',\n",
       "  'SID-9',\n",
       "  'SID-10'],\n",
       " 'Rol1_no': [1, 2, 3, 4, 5, 6, 7, 8, 9, 10],\n",
       " 'Semester': [7, 7, 7, 7, 6, 6, 6, 5, 8, 8]}"
      ]
     },
     "execution_count": 35,
     "metadata": {},
     "output_type": "execute_result"
    }
   ],
   "source": [
    "\n",
    "StuDict={\"Name\": [\"Aqsa\",\"Esha\", \"Ayesha\", \"Ayra\", \"Arfa\", \"Afsa\", \"Abdul\", \"Saadia\", \"Abu Bakar\",\"Atif\"],\n",
    "\"ID\": [\"SID-1\",\"SID-2\", \"SID-3\", \"SID-4\", \"SID-5\",\"SID-6\", \"SID-7\", \"SID-8\", \"SID-9\",\"SID-10\"],\n",
    "\"Rol1_no\": [1,2,3,4,5,6,7,8,9,10],\n",
    "\"Semester\" : [7,7,7,7,6,6,6,5,8,8]}\n",
    "\n",
    "StuDict"
   ]
  },
  {
   "cell_type": "markdown",
   "metadata": {},
   "source": [
    "with panda"
   ]
  },
  {
   "cell_type": "code",
   "execution_count": 36,
   "metadata": {},
   "outputs": [
    {
     "name": "stdout",
     "output_type": "stream",
     "text": [
      "        Name      ID  Rol1_no  Semester\n",
      "0       Aqsa   SID-1        1         7\n",
      "1       Esha   SID-2        2         7\n",
      "2     Ayesha   SID-3        3         7\n",
      "3       Ayra   SID-4        4         7\n",
      "4       Arfa   SID-5        5         6\n",
      "5       Afsa   SID-6        6         6\n",
      "6      Abdul   SID-7        7         6\n",
      "7     Saadia   SID-8        8         5\n",
      "8  Abu Bakar   SID-9        9         8\n",
      "9       Atif  SID-10       10         8\n",
      "\n",
      "\n",
      "The data type of above given syntax is : <class 'pandas.core.frame.DataFrame'>\n"
     ]
    }
   ],
   "source": [
    "#convert into data frames\n",
    "\n",
    "import pandas as pd\n",
    "\n",
    "data=pd.DataFrame (StuDict)\n",
    "\n",
    "print(data)\n",
    "\n",
    "print(\"\\n\\nThe data type of above given syntax is :\",type (data))"
   ]
  },
  {
   "cell_type": "markdown",
   "metadata": {},
   "source": [
    "Example 02\n",
    "Demonstrate the use of describe function for a data frame"
   ]
  },
  {
   "cell_type": "code",
   "execution_count": 37,
   "metadata": {},
   "outputs": [
    {
     "name": "stdout",
     "output_type": "stream",
     "text": [
      "        Rol1_no   Semester\n",
      "count  10.00000  10.000000\n",
      "mean    5.50000   6.700000\n",
      "std     3.02765   0.948683\n",
      "min     1.00000   5.000000\n",
      "25%     3.25000   6.000000\n",
      "50%     5.50000   7.000000\n",
      "75%     7.75000   7.000000\n",
      "max    10.00000   8.000000\n"
     ]
    }
   ],
   "source": [
    "print(data.describe())"
   ]
  },
  {
   "cell_type": "markdown",
   "metadata": {},
   "source": [
    "Example 03\n",
    "Demonstrate the use of head function for a data frame"
   ]
  },
  {
   "cell_type": "code",
   "execution_count": 38,
   "metadata": {},
   "outputs": [
    {
     "name": "stdout",
     "output_type": "stream",
     "text": [
      "     Name     ID  Rol1_no  Semester\n",
      "0    Aqsa  SID-1        1         7\n",
      "1    Esha  SID-2        2         7\n",
      "2  Ayesha  SID-3        3         7\n",
      "3    Ayra  SID-4        4         7\n",
      "4    Arfa  SID-5        5         6\n"
     ]
    }
   ],
   "source": [
    "print(data.head())"
   ]
  },
  {
   "cell_type": "markdown",
   "metadata": {},
   "source": [
    "Example 04\n",
    "Demonstrate the use of tail function for a data frame"
   ]
  },
  {
   "cell_type": "code",
   "execution_count": 40,
   "metadata": {},
   "outputs": [
    {
     "name": "stdout",
     "output_type": "stream",
     "text": [
      "        Name      ID  Rol1_no  Semester\n",
      "5       Afsa   SID-6        6         6\n",
      "6      Abdul   SID-7        7         6\n",
      "7     Saadia   SID-8        8         5\n",
      "8  Abu Bakar   SID-9        9         8\n",
      "9       Atif  SID-10       10         8\n"
     ]
    }
   ],
   "source": [
    "print(data.tail())"
   ]
  },
  {
   "cell_type": "markdown",
   "metadata": {},
   "source": [
    "Example 05\n",
    "Demonstrate the use of info function for a data frame"
   ]
  },
  {
   "cell_type": "code",
   "execution_count": 41,
   "metadata": {},
   "outputs": [
    {
     "name": "stdout",
     "output_type": "stream",
     "text": [
      "<class 'pandas.core.frame.DataFrame'>\n",
      "RangeIndex: 10 entries, 0 to 9\n",
      "Data columns (total 4 columns):\n",
      " #   Column    Non-Null Count  Dtype \n",
      "---  ------    --------------  ----- \n",
      " 0   Name      10 non-null     object\n",
      " 1   ID        10 non-null     object\n",
      " 2   Rol1_no   10 non-null     int64 \n",
      " 3   Semester  10 non-null     int64 \n",
      "dtypes: int64(2), object(2)\n",
      "memory usage: 452.0+ bytes\n",
      "None\n"
     ]
    }
   ],
   "source": [
    "print(data.info())"
   ]
  },
  {
   "cell_type": "markdown",
   "metadata": {},
   "source": [
    "Example 06\n",
    "Convert the data frame in a variable to CSV file"
   ]
  },
  {
   "cell_type": "code",
   "execution_count": 42,
   "metadata": {},
   "outputs": [],
   "source": [
    "data.to_csv('student.csv')"
   ]
  },
  {
   "cell_type": "markdown",
   "metadata": {},
   "source": [
    "Example 07\n",
    "Remove the indexes from the csv file"
   ]
  },
  {
   "cell_type": "code",
   "execution_count": 43,
   "metadata": {},
   "outputs": [],
   "source": [
    "data.to_csv('Without_index.csv', index=False)"
   ]
  },
  {
   "cell_type": "markdown",
   "metadata": {},
   "source": [
    "Example 08\n",
    "Read from csv file"
   ]
  },
  {
   "cell_type": "code",
   "execution_count": 44,
   "metadata": {},
   "outputs": [
    {
     "data": {
      "text/html": [
       "<div>\n",
       "<style scoped>\n",
       "    .dataframe tbody tr th:only-of-type {\n",
       "        vertical-align: middle;\n",
       "    }\n",
       "\n",
       "    .dataframe tbody tr th {\n",
       "        vertical-align: top;\n",
       "    }\n",
       "\n",
       "    .dataframe thead th {\n",
       "        text-align: right;\n",
       "    }\n",
       "</style>\n",
       "<table border=\"1\" class=\"dataframe\">\n",
       "  <thead>\n",
       "    <tr style=\"text-align: right;\">\n",
       "      <th></th>\n",
       "      <th>Unnamed: 0</th>\n",
       "      <th>Name</th>\n",
       "      <th>ID</th>\n",
       "      <th>Rol1_no</th>\n",
       "      <th>Semester</th>\n",
       "    </tr>\n",
       "  </thead>\n",
       "  <tbody>\n",
       "    <tr>\n",
       "      <th>0</th>\n",
       "      <td>0</td>\n",
       "      <td>Aqsa</td>\n",
       "      <td>SID-1</td>\n",
       "      <td>1</td>\n",
       "      <td>7</td>\n",
       "    </tr>\n",
       "    <tr>\n",
       "      <th>1</th>\n",
       "      <td>1</td>\n",
       "      <td>Esha</td>\n",
       "      <td>SID-2</td>\n",
       "      <td>2</td>\n",
       "      <td>7</td>\n",
       "    </tr>\n",
       "    <tr>\n",
       "      <th>2</th>\n",
       "      <td>2</td>\n",
       "      <td>Ayesha</td>\n",
       "      <td>SID-3</td>\n",
       "      <td>3</td>\n",
       "      <td>7</td>\n",
       "    </tr>\n",
       "    <tr>\n",
       "      <th>3</th>\n",
       "      <td>3</td>\n",
       "      <td>Ayra</td>\n",
       "      <td>SID-4</td>\n",
       "      <td>4</td>\n",
       "      <td>7</td>\n",
       "    </tr>\n",
       "    <tr>\n",
       "      <th>4</th>\n",
       "      <td>4</td>\n",
       "      <td>Arfa</td>\n",
       "      <td>SID-5</td>\n",
       "      <td>5</td>\n",
       "      <td>6</td>\n",
       "    </tr>\n",
       "    <tr>\n",
       "      <th>5</th>\n",
       "      <td>5</td>\n",
       "      <td>Afsa</td>\n",
       "      <td>SID-6</td>\n",
       "      <td>6</td>\n",
       "      <td>6</td>\n",
       "    </tr>\n",
       "    <tr>\n",
       "      <th>6</th>\n",
       "      <td>6</td>\n",
       "      <td>Abdul</td>\n",
       "      <td>SID-7</td>\n",
       "      <td>7</td>\n",
       "      <td>6</td>\n",
       "    </tr>\n",
       "    <tr>\n",
       "      <th>7</th>\n",
       "      <td>7</td>\n",
       "      <td>Saadia</td>\n",
       "      <td>SID-8</td>\n",
       "      <td>8</td>\n",
       "      <td>5</td>\n",
       "    </tr>\n",
       "    <tr>\n",
       "      <th>8</th>\n",
       "      <td>8</td>\n",
       "      <td>Abu Bakar</td>\n",
       "      <td>SID-9</td>\n",
       "      <td>9</td>\n",
       "      <td>8</td>\n",
       "    </tr>\n",
       "    <tr>\n",
       "      <th>9</th>\n",
       "      <td>9</td>\n",
       "      <td>Atif</td>\n",
       "      <td>SID-10</td>\n",
       "      <td>10</td>\n",
       "      <td>8</td>\n",
       "    </tr>\n",
       "  </tbody>\n",
       "</table>\n",
       "</div>"
      ],
      "text/plain": [
       "   Unnamed: 0       Name      ID  Rol1_no  Semester\n",
       "0           0       Aqsa   SID-1        1         7\n",
       "1           1       Esha   SID-2        2         7\n",
       "2           2     Ayesha   SID-3        3         7\n",
       "3           3       Ayra   SID-4        4         7\n",
       "4           4       Arfa   SID-5        5         6\n",
       "5           5       Afsa   SID-6        6         6\n",
       "6           6      Abdul   SID-7        7         6\n",
       "7           7     Saadia   SID-8        8         5\n",
       "8           8  Abu Bakar   SID-9        9         8\n",
       "9           9       Atif  SID-10       10         8"
      ]
     },
     "execution_count": 44,
     "metadata": {},
     "output_type": "execute_result"
    }
   ],
   "source": [
    "df = pd.read_csv('student.csv')\n",
    "df"
   ]
  },
  {
   "cell_type": "markdown",
   "metadata": {},
   "source": [
    "Example 09\n",
    "Use describe,head,tail and info function for CSV file"
   ]
  },
  {
   "cell_type": "code",
   "execution_count": 45,
   "metadata": {},
   "outputs": [
    {
     "name": "stdout",
     "output_type": "stream",
     "text": [
      "Describe Function \n",
      "        Unnamed: 0   Rol1_no   Semester\n",
      "count    10.00000  10.00000  10.000000\n",
      "mean      4.50000   5.50000   6.700000\n",
      "std       3.02765   3.02765   0.948683\n",
      "min       0.00000   1.00000   5.000000\n",
      "25%       2.25000   3.25000   6.000000\n",
      "50%       4.50000   5.50000   7.000000\n",
      "75%       6.75000   7.75000   7.000000\n",
      "max       9.00000  10.00000   8.000000, \n",
      " head Function \n",
      "    Unnamed: 0    Name     ID  Rol1_no  Semester\n",
      "0           0    Aqsa  SID-1        1         7\n",
      "1           1    Esha  SID-2        2         7\n",
      "2           2  Ayesha  SID-3        3         7\n",
      "3           3    Ayra  SID-4        4         7\n",
      "4           4    Arfa  SID-5        5         6 \n",
      " tail Function \n",
      "    Unnamed: 0       Name      ID  Rol1_no  Semester\n",
      "5           5       Afsa   SID-6        6         6\n",
      "6           6      Abdul   SID-7        7         6\n",
      "7           7     Saadia   SID-8        8         5\n",
      "8           8  Abu Bakar   SID-9        9         8\n",
      "9           9       Atif  SID-10       10         8\n",
      "<class 'pandas.core.frame.DataFrame'>\n",
      "RangeIndex: 10 entries, 0 to 9\n",
      "Data columns (total 5 columns):\n",
      " #   Column      Non-Null Count  Dtype \n",
      "---  ------      --------------  ----- \n",
      " 0   Unnamed: 0  10 non-null     int64 \n",
      " 1   Name        10 non-null     object\n",
      " 2   ID          10 non-null     object\n",
      " 3   Rol1_no     10 non-null     int64 \n",
      " 4   Semester    10 non-null     int64 \n",
      "dtypes: int64(3), object(2)\n",
      "memory usage: 532.0+ bytes\n",
      "\n",
      " info Function \n",
      " None\n"
     ]
    }
   ],
   "source": [
    "import pandas as pd\n",
    "df = pd.read_csv('student.csv')\n",
    "\n",
    "print(f\"Describe Function \\n {df.describe()}, \\n head Function \\n {df.head()} \\n tail Function \\n {df.tail()}\")\n",
    "print(f\"\\n info Function \\n {df.info()}\")"
   ]
  },
  {
   "cell_type": "markdown",
   "metadata": {},
   "source": [
    "Example 10\n",
    "Access a column by its name"
   ]
  },
  {
   "cell_type": "code",
   "execution_count": 46,
   "metadata": {},
   "outputs": [
    {
     "data": {
      "text/plain": [
       "0         Aqsa\n",
       "1         Esha\n",
       "2       Ayesha\n",
       "3         Ayra\n",
       "4         Arfa\n",
       "5         Afsa\n",
       "6        Abdul\n",
       "7       Saadia\n",
       "8    Abu Bakar\n",
       "9         Atif\n",
       "Name: Name, dtype: object"
      ]
     },
     "execution_count": 46,
     "metadata": {},
     "output_type": "execute_result"
    }
   ],
   "source": [
    "import pandas as pd\n",
    "\n",
    "df['Name']"
   ]
  },
  {
   "cell_type": "markdown",
   "metadata": {},
   "source": [
    "Example 11\n",
    "Access the 1st element of a column"
   ]
  },
  {
   "cell_type": "code",
   "execution_count": 47,
   "metadata": {},
   "outputs": [
    {
     "data": {
      "text/plain": [
       "'Aqsa'"
      ]
     },
     "execution_count": 47,
     "metadata": {},
     "output_type": "execute_result"
    }
   ],
   "source": [
    "df['Name'][0]"
   ]
  },
  {
   "cell_type": "markdown",
   "metadata": {},
   "source": [
    "Example 12\n",
    "Update the value in the column"
   ]
  },
  {
   "cell_type": "code",
   "execution_count": 48,
   "metadata": {},
   "outputs": [
    {
     "name": "stderr",
     "output_type": "stream",
     "text": [
      "C:\\Users\\HP ProBook\\AppData\\Local\\Temp\\ipykernel_7820\\2832195598.py:1: SettingWithCopyWarning: \n",
      "A value is trying to be set on a copy of a slice from a DataFrame\n",
      "\n",
      "See the caveats in the documentation: https://pandas.pydata.org/pandas-docs/stable/user_guide/indexing.html#returning-a-view-versus-a-copy\n",
      "  df['Name'][0] = 'Saddam'\n"
     ]
    },
    {
     "data": {
      "text/html": [
       "<div>\n",
       "<style scoped>\n",
       "    .dataframe tbody tr th:only-of-type {\n",
       "        vertical-align: middle;\n",
       "    }\n",
       "\n",
       "    .dataframe tbody tr th {\n",
       "        vertical-align: top;\n",
       "    }\n",
       "\n",
       "    .dataframe thead th {\n",
       "        text-align: right;\n",
       "    }\n",
       "</style>\n",
       "<table border=\"1\" class=\"dataframe\">\n",
       "  <thead>\n",
       "    <tr style=\"text-align: right;\">\n",
       "      <th></th>\n",
       "      <th>Unnamed: 0</th>\n",
       "      <th>Name</th>\n",
       "      <th>ID</th>\n",
       "      <th>Rol1_no</th>\n",
       "      <th>Semester</th>\n",
       "    </tr>\n",
       "  </thead>\n",
       "  <tbody>\n",
       "    <tr>\n",
       "      <th>0</th>\n",
       "      <td>0</td>\n",
       "      <td>Saddam</td>\n",
       "      <td>SID-1</td>\n",
       "      <td>1</td>\n",
       "      <td>7</td>\n",
       "    </tr>\n",
       "    <tr>\n",
       "      <th>1</th>\n",
       "      <td>1</td>\n",
       "      <td>Esha</td>\n",
       "      <td>SID-2</td>\n",
       "      <td>2</td>\n",
       "      <td>7</td>\n",
       "    </tr>\n",
       "    <tr>\n",
       "      <th>2</th>\n",
       "      <td>2</td>\n",
       "      <td>Ayesha</td>\n",
       "      <td>SID-3</td>\n",
       "      <td>3</td>\n",
       "      <td>7</td>\n",
       "    </tr>\n",
       "    <tr>\n",
       "      <th>3</th>\n",
       "      <td>3</td>\n",
       "      <td>Ayra</td>\n",
       "      <td>SID-4</td>\n",
       "      <td>4</td>\n",
       "      <td>7</td>\n",
       "    </tr>\n",
       "    <tr>\n",
       "      <th>4</th>\n",
       "      <td>4</td>\n",
       "      <td>Arfa</td>\n",
       "      <td>SID-5</td>\n",
       "      <td>5</td>\n",
       "      <td>6</td>\n",
       "    </tr>\n",
       "    <tr>\n",
       "      <th>5</th>\n",
       "      <td>5</td>\n",
       "      <td>Afsa</td>\n",
       "      <td>SID-6</td>\n",
       "      <td>6</td>\n",
       "      <td>6</td>\n",
       "    </tr>\n",
       "    <tr>\n",
       "      <th>6</th>\n",
       "      <td>6</td>\n",
       "      <td>Abdul</td>\n",
       "      <td>SID-7</td>\n",
       "      <td>7</td>\n",
       "      <td>6</td>\n",
       "    </tr>\n",
       "    <tr>\n",
       "      <th>7</th>\n",
       "      <td>7</td>\n",
       "      <td>Saadia</td>\n",
       "      <td>SID-8</td>\n",
       "      <td>8</td>\n",
       "      <td>5</td>\n",
       "    </tr>\n",
       "    <tr>\n",
       "      <th>8</th>\n",
       "      <td>8</td>\n",
       "      <td>Abu Bakar</td>\n",
       "      <td>SID-9</td>\n",
       "      <td>9</td>\n",
       "      <td>8</td>\n",
       "    </tr>\n",
       "    <tr>\n",
       "      <th>9</th>\n",
       "      <td>9</td>\n",
       "      <td>Atif</td>\n",
       "      <td>SID-10</td>\n",
       "      <td>10</td>\n",
       "      <td>8</td>\n",
       "    </tr>\n",
       "  </tbody>\n",
       "</table>\n",
       "</div>"
      ],
      "text/plain": [
       "   Unnamed: 0       Name      ID  Rol1_no  Semester\n",
       "0           0     Saddam   SID-1        1         7\n",
       "1           1       Esha   SID-2        2         7\n",
       "2           2     Ayesha   SID-3        3         7\n",
       "3           3       Ayra   SID-4        4         7\n",
       "4           4       Arfa   SID-5        5         6\n",
       "5           5       Afsa   SID-6        6         6\n",
       "6           6      Abdul   SID-7        7         6\n",
       "7           7     Saadia   SID-8        8         5\n",
       "8           8  Abu Bakar   SID-9        9         8\n",
       "9           9       Atif  SID-10       10         8"
      ]
     },
     "execution_count": 48,
     "metadata": {},
     "output_type": "execute_result"
    }
   ],
   "source": [
    "df['Name'][0] = 'Saddam'\n",
    "df"
   ]
  },
  {
   "cell_type": "markdown",
   "metadata": {},
   "source": [
    "Example 13\n",
    "Find the columns and indexes in a data frame"
   ]
  },
  {
   "cell_type": "code",
   "execution_count": 49,
   "metadata": {},
   "outputs": [
    {
     "data": {
      "text/plain": [
       "Index(['Unnamed: 0', 'Name', 'ID', 'Rol1_no', 'Semester'], dtype='object')"
      ]
     },
     "execution_count": 49,
     "metadata": {},
     "output_type": "execute_result"
    }
   ],
   "source": [
    "df.columns"
   ]
  },
  {
   "cell_type": "code",
   "execution_count": 50,
   "metadata": {},
   "outputs": [
    {
     "data": {
      "text/plain": [
       "RangeIndex(start=0, stop=10, step=1)"
      ]
     },
     "execution_count": 50,
     "metadata": {},
     "output_type": "execute_result"
    }
   ],
   "source": [
    "df.index"
   ]
  },
  {
   "cell_type": "markdown",
   "metadata": {},
   "source": [
    "Example 14\n",
    "Create a series of 50 random numbers and check their data type and shape"
   ]
  },
  {
   "cell_type": "code",
   "execution_count": 52,
   "metadata": {},
   "outputs": [
    {
     "name": "stdout",
     "output_type": "stream",
     "text": [
      "0     0.034132\n",
      "1     0.376446\n",
      "2     0.389129\n",
      "3     0.577768\n",
      "4     0.971502\n",
      "5     0.322599\n",
      "6     0.196677\n",
      "7     0.372955\n",
      "8     0.636597\n",
      "9     0.010973\n",
      "10    0.341785\n",
      "11    0.148404\n",
      "12    0.569902\n",
      "13    0.928554\n",
      "14    0.059561\n",
      "15    0.756997\n",
      "16    0.296786\n",
      "17    0.546873\n",
      "18    0.426535\n",
      "19    0.118901\n",
      "20    0.950915\n",
      "21    0.517496\n",
      "22    0.050548\n",
      "23    0.030377\n",
      "24    0.554363\n",
      "25    0.531756\n",
      "26    0.078058\n",
      "27    0.192649\n",
      "28    0.327231\n",
      "29    0.714084\n",
      "30    0.867096\n",
      "31    0.887440\n",
      "32    0.638691\n",
      "33    0.566986\n",
      "34    0.877783\n",
      "35    0.946884\n",
      "36    0.130508\n",
      "37    0.561165\n",
      "38    0.197007\n",
      "39    0.669565\n",
      "40    0.669648\n",
      "41    0.822495\n",
      "42    0.577418\n",
      "43    0.243973\n",
      "44    0.798470\n",
      "45    0.626286\n",
      "46    0.792206\n",
      "47    0.152992\n",
      "48    0.643032\n",
      "49    0.631898\n",
      "dtype: float64\n",
      "Using dtype: float64\n",
      "Using type: <class 'pandas.core.series.Series'>\n",
      "Using Shape: (50,)\n"
     ]
    }
   ],
   "source": [
    "import pandas as pd\n",
    "import numpy as np\n",
    "\n",
    "s = pd.Series(np.random.rand(50))\n",
    "print(s)\n",
    "print(f\"Using dtype: {s.dtype}\")\n",
    "print(f\"Using type: {type(s)}\")\n",
    "print(f\"Using Shape: {s.shape}\")\n"
   ]
  },
  {
   "cell_type": "markdown",
   "metadata": {},
   "source": [
    "Example 15\n",
    "Create a 50 x 5 data set from random values"
   ]
  },
  {
   "cell_type": "code",
   "execution_count": 53,
   "metadata": {},
   "outputs": [
    {
     "name": "stdout",
     "output_type": "stream",
     "text": [
      "0     0.034132\n",
      "1     0.376446\n",
      "2     0.389129\n",
      "3     0.577768\n",
      "4     0.971502\n",
      "5     0.322599\n",
      "6     0.196677\n",
      "7     0.372955\n",
      "8     0.636597\n",
      "9     0.010973\n",
      "10    0.341785\n",
      "11    0.148404\n",
      "12    0.569902\n",
      "13    0.928554\n",
      "14    0.059561\n",
      "15    0.756997\n",
      "16    0.296786\n",
      "17    0.546873\n",
      "18    0.426535\n",
      "19    0.118901\n",
      "20    0.950915\n",
      "21    0.517496\n",
      "22    0.050548\n",
      "23    0.030377\n",
      "24    0.554363\n",
      "25    0.531756\n",
      "26    0.078058\n",
      "27    0.192649\n",
      "28    0.327231\n",
      "29    0.714084\n",
      "30    0.867096\n",
      "31    0.887440\n",
      "32    0.638691\n",
      "33    0.566986\n",
      "34    0.877783\n",
      "35    0.946884\n",
      "36    0.130508\n",
      "37    0.561165\n",
      "38    0.197007\n",
      "39    0.669565\n",
      "40    0.669648\n",
      "41    0.822495\n",
      "42    0.577418\n",
      "43    0.243973\n",
      "44    0.798470\n",
      "45    0.626286\n",
      "46    0.792206\n",
      "47    0.152992\n",
      "48    0.643032\n",
      "49    0.631898\n",
      "dtype: float64\n"
     ]
    }
   ],
   "source": [
    "import pandas as pd\n",
    "import numpy as np\n",
    "\n",
    "dataf = pd.DataFrame(np.random.rand(50,5))\n",
    "print(s)"
   ]
  },
  {
   "cell_type": "markdown",
   "metadata": {},
   "source": [
    "Example 16\n",
    "Find the minimum maximum and mean values column wise in a dataset"
   ]
  },
  {
   "cell_type": "code",
   "execution_count": 3,
   "metadata": {},
   "outputs": [
    {
     "name": "stdout",
     "output_type": "stream",
     "text": [
      "0     0.338084\n",
      "1     0.889124\n",
      "2     0.630008\n",
      "3     0.441750\n",
      "4     0.561486\n",
      "5     0.911563\n",
      "6     0.801814\n",
      "7     0.563990\n",
      "8     0.292048\n",
      "9     0.582724\n",
      "10    0.614138\n",
      "11    0.832574\n",
      "12    0.962394\n",
      "13    0.934899\n",
      "14    0.920745\n",
      "15    0.630715\n",
      "16    0.720988\n",
      "17    0.288869\n",
      "18    0.737724\n",
      "19    0.233166\n",
      "20    0.134678\n",
      "21    0.612271\n",
      "22    0.571302\n",
      "23    0.082770\n",
      "24    0.338689\n",
      "25    0.036242\n",
      "26    0.507358\n",
      "27    0.364710\n",
      "28    0.429716\n",
      "29    0.459616\n",
      "30    0.928024\n",
      "31    0.178210\n",
      "32    0.748957\n",
      "33    0.176360\n",
      "34    0.612404\n",
      "35    0.127929\n",
      "36    0.600513\n",
      "37    0.322628\n",
      "38    0.916481\n",
      "39    0.283049\n",
      "40    0.625561\n",
      "41    0.107135\n",
      "42    0.600208\n",
      "43    0.545433\n",
      "44    0.283712\n",
      "45    0.669508\n",
      "46    0.379408\n",
      "47    0.929694\n",
      "48    0.745577\n",
      "49    0.228963\n",
      "dtype: float64\n",
      "Using dtype: float64\n",
      "Using type: <class 'pandas.core.series.Series'>\n",
      "Using Shape: (50,)\n"
     ]
    }
   ],
   "source": [
    "import pandas as pd\n",
    "import numpy as np\n",
    "\n",
    "s = pd.Series(np.random.rand(50))\n",
    "print(s)\n",
    "print(f\"Using dtype: {s.dtype}\")\n",
    "print(f\"Using type: {type(s)}\")\n",
    "print(f\"Using Shape: {s.shape}\")"
   ]
  },
  {
   "cell_type": "code",
   "execution_count": 4,
   "metadata": {},
   "outputs": [
    {
     "name": "stdout",
     "output_type": "stream",
     "text": [
      "0     0.338084\n",
      "1     0.889124\n",
      "2     0.630008\n",
      "3     0.441750\n",
      "4     0.561486\n",
      "5     0.911563\n",
      "6     0.801814\n",
      "7     0.563990\n",
      "8     0.292048\n",
      "9     0.582724\n",
      "10    0.614138\n",
      "11    0.832574\n",
      "12    0.962394\n",
      "13    0.934899\n",
      "14    0.920745\n",
      "15    0.630715\n",
      "16    0.720988\n",
      "17    0.288869\n",
      "18    0.737724\n",
      "19    0.233166\n",
      "20    0.134678\n",
      "21    0.612271\n",
      "22    0.571302\n",
      "23    0.082770\n",
      "24    0.338689\n",
      "25    0.036242\n",
      "26    0.507358\n",
      "27    0.364710\n",
      "28    0.429716\n",
      "29    0.459616\n",
      "30    0.928024\n",
      "31    0.178210\n",
      "32    0.748957\n",
      "33    0.176360\n",
      "34    0.612404\n",
      "35    0.127929\n",
      "36    0.600513\n",
      "37    0.322628\n",
      "38    0.916481\n",
      "39    0.283049\n",
      "40    0.625561\n",
      "41    0.107135\n",
      "42    0.600208\n",
      "43    0.545433\n",
      "44    0.283712\n",
      "45    0.669508\n",
      "46    0.379408\n",
      "47    0.929694\n",
      "48    0.745577\n",
      "49    0.228963\n",
      "dtype: float64\n"
     ]
    }
   ],
   "source": [
    "import pandas as pd\n",
    "import numpy as np\n",
    "\n",
    "dataf = pd.DataFrame(np.random.rand(50,5))\n",
    "print(s)"
   ]
  },
  {
   "cell_type": "code",
   "execution_count": 5,
   "metadata": {},
   "outputs": [
    {
     "data": {
      "text/plain": [
       "0    0.070354\n",
       "1    0.021918\n",
       "2    0.014862\n",
       "3    0.013547\n",
       "4    0.013061\n",
       "dtype: float64"
      ]
     },
     "execution_count": 5,
     "metadata": {},
     "output_type": "execute_result"
    }
   ],
   "source": [
    "dataf.min()"
   ]
  },
  {
   "cell_type": "code",
   "execution_count": 6,
   "metadata": {},
   "outputs": [
    {
     "data": {
      "text/plain": [
       "0    0.987702\n",
       "1    0.998330\n",
       "2    0.987191\n",
       "3    0.985148\n",
       "4    0.994403\n",
       "dtype: float64"
      ]
     },
     "execution_count": 6,
     "metadata": {},
     "output_type": "execute_result"
    }
   ],
   "source": [
    "dataf.max()"
   ]
  },
  {
   "cell_type": "code",
   "execution_count": 7,
   "metadata": {},
   "outputs": [
    {
     "data": {
      "text/plain": [
       "0    0.513305\n",
       "1    0.544209\n",
       "2    0.490150\n",
       "3    0.485433\n",
       "4    0.524908\n",
       "dtype: float64"
      ]
     },
     "execution_count": 7,
     "metadata": {},
     "output_type": "execute_result"
    }
   ],
   "source": [
    "dataf.mean()"
   ]
  },
  {
   "cell_type": "markdown",
   "metadata": {},
   "source": [
    "Example 17\n",
    "Find the maximum value in 1st column"
   ]
  },
  {
   "cell_type": "code",
   "execution_count": 8,
   "metadata": {},
   "outputs": [
    {
     "data": {
      "text/plain": [
       "0.987702065683667"
      ]
     },
     "execution_count": 8,
     "metadata": {},
     "output_type": "execute_result"
    }
   ],
   "source": [
    "dataf[0].max()"
   ]
  },
  {
   "cell_type": "markdown",
   "metadata": {},
   "source": [
    "Example 18\n",
    "Convert the dataset into numpy array and also take transpose of it"
   ]
  },
  {
   "cell_type": "code",
   "execution_count": 9,
   "metadata": {},
   "outputs": [
    {
     "data": {
      "text/plain": [
       "array([[0.41515512, 0.9253329 , 0.63060022, 0.98492875, 0.01306087],\n",
       "       [0.28346574, 0.52180303, 0.7924519 , 0.43060295, 0.84787925],\n",
       "       [0.84720984, 0.25562371, 0.95919497, 0.04233071, 0.95785461],\n",
       "       [0.37183798, 0.8825998 , 0.34923406, 0.2725448 , 0.23522161],\n",
       "       [0.38904763, 0.99833043, 0.30323736, 0.79276068, 0.94684675],\n",
       "       [0.86454491, 0.12171319, 0.41406623, 0.20336092, 0.131147  ],\n",
       "       [0.38246296, 0.25778567, 0.32566776, 0.68981711, 0.6242404 ],\n",
       "       [0.94382428, 0.85749197, 0.04145592, 0.26527236, 0.58089036],\n",
       "       [0.68888427, 0.24720462, 0.82668526, 0.5826928 , 0.94956056],\n",
       "       [0.98770207, 0.55581189, 0.14443419, 0.9459475 , 0.23624403],\n",
       "       [0.27466523, 0.0352775 , 0.74950508, 0.01354726, 0.11237387],\n",
       "       [0.6531035 , 0.76621681, 0.04985916, 0.31108495, 0.17102086],\n",
       "       [0.5267046 , 0.8127863 , 0.37772227, 0.37596615, 0.8552081 ],\n",
       "       [0.89071542, 0.26862928, 0.18301158, 0.69296673, 0.69217025],\n",
       "       [0.46977521, 0.54489843, 0.24234594, 0.33789982, 0.6792943 ],\n",
       "       [0.16180872, 0.13669714, 0.9192121 , 0.08590732, 0.29589241],\n",
       "       [0.52553016, 0.20492519, 0.59077165, 0.36039852, 0.99440309],\n",
       "       [0.14992219, 0.35564258, 0.53018275, 0.96336564, 0.77293788],\n",
       "       [0.44642656, 0.97067057, 0.73094391, 0.83253778, 0.23917184],\n",
       "       [0.86263514, 0.12592595, 0.30839097, 0.22942886, 0.32052717],\n",
       "       [0.47062284, 0.02191757, 0.45119828, 0.46569849, 0.16819324],\n",
       "       [0.90897833, 0.66637775, 0.49422659, 0.58789986, 0.09923344],\n",
       "       [0.07035382, 0.88835817, 0.24883252, 0.87075857, 0.9942756 ],\n",
       "       [0.6888296 , 0.92077339, 0.68555279, 0.61222122, 0.29617352],\n",
       "       [0.14137384, 0.83347954, 0.9056564 , 0.98514823, 0.32525965],\n",
       "       [0.88931957, 0.90982572, 0.89370044, 0.86556406, 0.66061238],\n",
       "       [0.31466662, 0.79608698, 0.85672351, 0.22037627, 0.58493452],\n",
       "       [0.92131266, 0.12108582, 0.27620574, 0.20733629, 0.86874597],\n",
       "       [0.46992155, 0.69506586, 0.02748698, 0.39457472, 0.21365666],\n",
       "       [0.26999578, 0.06856358, 0.79446394, 0.19821362, 0.12118739],\n",
       "       [0.56107218, 0.90599156, 0.88235243, 0.12403303, 0.04559765],\n",
       "       [0.54450514, 0.74336636, 0.73011059, 0.49989631, 0.91601687],\n",
       "       [0.49626162, 0.70737517, 0.19501801, 0.93347597, 0.96235725],\n",
       "       [0.23875482, 0.96767159, 0.10758759, 0.08452756, 0.88661417],\n",
       "       [0.6266335 , 0.30947693, 0.03922786, 0.78895395, 0.60008819],\n",
       "       [0.93454309, 0.02568262, 0.39141723, 0.37048885, 0.25713921],\n",
       "       [0.68022054, 0.88986212, 0.6936559 , 0.08135392, 0.07244471],\n",
       "       [0.25935664, 0.29296922, 0.0657474 , 0.73552347, 0.49097439],\n",
       "       [0.37647179, 0.59080084, 0.54630787, 0.75449961, 0.22347021],\n",
       "       [0.13514072, 0.69333108, 0.35687591, 0.15786596, 0.76841369],\n",
       "       [0.538856  , 0.16528907, 0.32644445, 0.7912665 , 0.70838166],\n",
       "       [0.14768834, 0.09792671, 0.45164521, 0.58317949, 0.66677583],\n",
       "       [0.3470759 , 0.98808206, 0.24453089, 0.40840329, 0.50148486],\n",
       "       [0.1705025 , 0.61028461, 0.98719113, 0.22666885, 0.9456591 ],\n",
       "       [0.25103651, 0.20484724, 0.01486159, 0.55134709, 0.74760817],\n",
       "       [0.36627143, 0.89211625, 0.91492669, 0.60258695, 0.81137724],\n",
       "       [0.4931315 , 0.62153626, 0.10715227, 0.03597797, 0.16530192],\n",
       "       [0.51939852, 0.74038492, 0.98431149, 0.97166896, 0.89438786],\n",
       "       [0.91016485, 0.39229487, 0.79754353, 0.3643393 , 0.27897484],\n",
       "       [0.78735075, 0.60424372, 0.56759438, 0.3844339 , 0.31411442]])"
      ]
     },
     "execution_count": 9,
     "metadata": {},
     "output_type": "execute_result"
    }
   ],
   "source": [
    "d1 = dataf.to_numpy()\n",
    "d1"
   ]
  },
  {
   "cell_type": "code",
   "execution_count": 10,
   "metadata": {},
   "outputs": [
    {
     "data": {
      "text/plain": [
       "array([[0.41515512, 0.28346574, 0.84720984, 0.37183798, 0.38904763,\n",
       "        0.86454491, 0.38246296, 0.94382428, 0.68888427, 0.98770207,\n",
       "        0.27466523, 0.6531035 , 0.5267046 , 0.89071542, 0.46977521,\n",
       "        0.16180872, 0.52553016, 0.14992219, 0.44642656, 0.86263514,\n",
       "        0.47062284, 0.90897833, 0.07035382, 0.6888296 , 0.14137384,\n",
       "        0.88931957, 0.31466662, 0.92131266, 0.46992155, 0.26999578,\n",
       "        0.56107218, 0.54450514, 0.49626162, 0.23875482, 0.6266335 ,\n",
       "        0.93454309, 0.68022054, 0.25935664, 0.37647179, 0.13514072,\n",
       "        0.538856  , 0.14768834, 0.3470759 , 0.1705025 , 0.25103651,\n",
       "        0.36627143, 0.4931315 , 0.51939852, 0.91016485, 0.78735075],\n",
       "       [0.9253329 , 0.52180303, 0.25562371, 0.8825998 , 0.99833043,\n",
       "        0.12171319, 0.25778567, 0.85749197, 0.24720462, 0.55581189,\n",
       "        0.0352775 , 0.76621681, 0.8127863 , 0.26862928, 0.54489843,\n",
       "        0.13669714, 0.20492519, 0.35564258, 0.97067057, 0.12592595,\n",
       "        0.02191757, 0.66637775, 0.88835817, 0.92077339, 0.83347954,\n",
       "        0.90982572, 0.79608698, 0.12108582, 0.69506586, 0.06856358,\n",
       "        0.90599156, 0.74336636, 0.70737517, 0.96767159, 0.30947693,\n",
       "        0.02568262, 0.88986212, 0.29296922, 0.59080084, 0.69333108,\n",
       "        0.16528907, 0.09792671, 0.98808206, 0.61028461, 0.20484724,\n",
       "        0.89211625, 0.62153626, 0.74038492, 0.39229487, 0.60424372],\n",
       "       [0.63060022, 0.7924519 , 0.95919497, 0.34923406, 0.30323736,\n",
       "        0.41406623, 0.32566776, 0.04145592, 0.82668526, 0.14443419,\n",
       "        0.74950508, 0.04985916, 0.37772227, 0.18301158, 0.24234594,\n",
       "        0.9192121 , 0.59077165, 0.53018275, 0.73094391, 0.30839097,\n",
       "        0.45119828, 0.49422659, 0.24883252, 0.68555279, 0.9056564 ,\n",
       "        0.89370044, 0.85672351, 0.27620574, 0.02748698, 0.79446394,\n",
       "        0.88235243, 0.73011059, 0.19501801, 0.10758759, 0.03922786,\n",
       "        0.39141723, 0.6936559 , 0.0657474 , 0.54630787, 0.35687591,\n",
       "        0.32644445, 0.45164521, 0.24453089, 0.98719113, 0.01486159,\n",
       "        0.91492669, 0.10715227, 0.98431149, 0.79754353, 0.56759438],\n",
       "       [0.98492875, 0.43060295, 0.04233071, 0.2725448 , 0.79276068,\n",
       "        0.20336092, 0.68981711, 0.26527236, 0.5826928 , 0.9459475 ,\n",
       "        0.01354726, 0.31108495, 0.37596615, 0.69296673, 0.33789982,\n",
       "        0.08590732, 0.36039852, 0.96336564, 0.83253778, 0.22942886,\n",
       "        0.46569849, 0.58789986, 0.87075857, 0.61222122, 0.98514823,\n",
       "        0.86556406, 0.22037627, 0.20733629, 0.39457472, 0.19821362,\n",
       "        0.12403303, 0.49989631, 0.93347597, 0.08452756, 0.78895395,\n",
       "        0.37048885, 0.08135392, 0.73552347, 0.75449961, 0.15786596,\n",
       "        0.7912665 , 0.58317949, 0.40840329, 0.22666885, 0.55134709,\n",
       "        0.60258695, 0.03597797, 0.97166896, 0.3643393 , 0.3844339 ],\n",
       "       [0.01306087, 0.84787925, 0.95785461, 0.23522161, 0.94684675,\n",
       "        0.131147  , 0.6242404 , 0.58089036, 0.94956056, 0.23624403,\n",
       "        0.11237387, 0.17102086, 0.8552081 , 0.69217025, 0.6792943 ,\n",
       "        0.29589241, 0.99440309, 0.77293788, 0.23917184, 0.32052717,\n",
       "        0.16819324, 0.09923344, 0.9942756 , 0.29617352, 0.32525965,\n",
       "        0.66061238, 0.58493452, 0.86874597, 0.21365666, 0.12118739,\n",
       "        0.04559765, 0.91601687, 0.96235725, 0.88661417, 0.60008819,\n",
       "        0.25713921, 0.07244471, 0.49097439, 0.22347021, 0.76841369,\n",
       "        0.70838166, 0.66677583, 0.50148486, 0.9456591 , 0.74760817,\n",
       "        0.81137724, 0.16530192, 0.89438786, 0.27897484, 0.31411442]])"
      ]
     },
     "execution_count": 10,
     "metadata": {},
     "output_type": "execute_result"
    }
   ],
   "source": [
    "\n",
    "d1.T"
   ]
  },
  {
   "cell_type": "markdown",
   "metadata": {},
   "source": [
    "Example 19\n",
    "Change names of the columns."
   ]
  },
  {
   "cell_type": "code",
   "execution_count": 11,
   "metadata": {},
   "outputs": [
    {
     "data": {
      "text/html": [
       "<div>\n",
       "<style scoped>\n",
       "    .dataframe tbody tr th:only-of-type {\n",
       "        vertical-align: middle;\n",
       "    }\n",
       "\n",
       "    .dataframe tbody tr th {\n",
       "        vertical-align: top;\n",
       "    }\n",
       "\n",
       "    .dataframe thead th {\n",
       "        text-align: right;\n",
       "    }\n",
       "</style>\n",
       "<table border=\"1\" class=\"dataframe\">\n",
       "  <thead>\n",
       "    <tr style=\"text-align: right;\">\n",
       "      <th></th>\n",
       "      <th>A</th>\n",
       "      <th>B</th>\n",
       "      <th>C</th>\n",
       "      <th>D</th>\n",
       "      <th>E</th>\n",
       "    </tr>\n",
       "  </thead>\n",
       "  <tbody>\n",
       "    <tr>\n",
       "      <th>0</th>\n",
       "      <td>0.415155</td>\n",
       "      <td>0.925333</td>\n",
       "      <td>0.630600</td>\n",
       "      <td>0.984929</td>\n",
       "      <td>0.013061</td>\n",
       "    </tr>\n",
       "    <tr>\n",
       "      <th>1</th>\n",
       "      <td>0.283466</td>\n",
       "      <td>0.521803</td>\n",
       "      <td>0.792452</td>\n",
       "      <td>0.430603</td>\n",
       "      <td>0.847879</td>\n",
       "    </tr>\n",
       "    <tr>\n",
       "      <th>2</th>\n",
       "      <td>0.847210</td>\n",
       "      <td>0.255624</td>\n",
       "      <td>0.959195</td>\n",
       "      <td>0.042331</td>\n",
       "      <td>0.957855</td>\n",
       "    </tr>\n",
       "    <tr>\n",
       "      <th>3</th>\n",
       "      <td>0.371838</td>\n",
       "      <td>0.882600</td>\n",
       "      <td>0.349234</td>\n",
       "      <td>0.272545</td>\n",
       "      <td>0.235222</td>\n",
       "    </tr>\n",
       "    <tr>\n",
       "      <th>4</th>\n",
       "      <td>0.389048</td>\n",
       "      <td>0.998330</td>\n",
       "      <td>0.303237</td>\n",
       "      <td>0.792761</td>\n",
       "      <td>0.946847</td>\n",
       "    </tr>\n",
       "    <tr>\n",
       "      <th>5</th>\n",
       "      <td>0.864545</td>\n",
       "      <td>0.121713</td>\n",
       "      <td>0.414066</td>\n",
       "      <td>0.203361</td>\n",
       "      <td>0.131147</td>\n",
       "    </tr>\n",
       "    <tr>\n",
       "      <th>6</th>\n",
       "      <td>0.382463</td>\n",
       "      <td>0.257786</td>\n",
       "      <td>0.325668</td>\n",
       "      <td>0.689817</td>\n",
       "      <td>0.624240</td>\n",
       "    </tr>\n",
       "    <tr>\n",
       "      <th>7</th>\n",
       "      <td>0.943824</td>\n",
       "      <td>0.857492</td>\n",
       "      <td>0.041456</td>\n",
       "      <td>0.265272</td>\n",
       "      <td>0.580890</td>\n",
       "    </tr>\n",
       "    <tr>\n",
       "      <th>8</th>\n",
       "      <td>0.688884</td>\n",
       "      <td>0.247205</td>\n",
       "      <td>0.826685</td>\n",
       "      <td>0.582693</td>\n",
       "      <td>0.949561</td>\n",
       "    </tr>\n",
       "    <tr>\n",
       "      <th>9</th>\n",
       "      <td>0.987702</td>\n",
       "      <td>0.555812</td>\n",
       "      <td>0.144434</td>\n",
       "      <td>0.945948</td>\n",
       "      <td>0.236244</td>\n",
       "    </tr>\n",
       "    <tr>\n",
       "      <th>10</th>\n",
       "      <td>0.274665</td>\n",
       "      <td>0.035277</td>\n",
       "      <td>0.749505</td>\n",
       "      <td>0.013547</td>\n",
       "      <td>0.112374</td>\n",
       "    </tr>\n",
       "    <tr>\n",
       "      <th>11</th>\n",
       "      <td>0.653103</td>\n",
       "      <td>0.766217</td>\n",
       "      <td>0.049859</td>\n",
       "      <td>0.311085</td>\n",
       "      <td>0.171021</td>\n",
       "    </tr>\n",
       "    <tr>\n",
       "      <th>12</th>\n",
       "      <td>0.526705</td>\n",
       "      <td>0.812786</td>\n",
       "      <td>0.377722</td>\n",
       "      <td>0.375966</td>\n",
       "      <td>0.855208</td>\n",
       "    </tr>\n",
       "    <tr>\n",
       "      <th>13</th>\n",
       "      <td>0.890715</td>\n",
       "      <td>0.268629</td>\n",
       "      <td>0.183012</td>\n",
       "      <td>0.692967</td>\n",
       "      <td>0.692170</td>\n",
       "    </tr>\n",
       "    <tr>\n",
       "      <th>14</th>\n",
       "      <td>0.469775</td>\n",
       "      <td>0.544898</td>\n",
       "      <td>0.242346</td>\n",
       "      <td>0.337900</td>\n",
       "      <td>0.679294</td>\n",
       "    </tr>\n",
       "    <tr>\n",
       "      <th>15</th>\n",
       "      <td>0.161809</td>\n",
       "      <td>0.136697</td>\n",
       "      <td>0.919212</td>\n",
       "      <td>0.085907</td>\n",
       "      <td>0.295892</td>\n",
       "    </tr>\n",
       "    <tr>\n",
       "      <th>16</th>\n",
       "      <td>0.525530</td>\n",
       "      <td>0.204925</td>\n",
       "      <td>0.590772</td>\n",
       "      <td>0.360399</td>\n",
       "      <td>0.994403</td>\n",
       "    </tr>\n",
       "    <tr>\n",
       "      <th>17</th>\n",
       "      <td>0.149922</td>\n",
       "      <td>0.355643</td>\n",
       "      <td>0.530183</td>\n",
       "      <td>0.963366</td>\n",
       "      <td>0.772938</td>\n",
       "    </tr>\n",
       "    <tr>\n",
       "      <th>18</th>\n",
       "      <td>0.446427</td>\n",
       "      <td>0.970671</td>\n",
       "      <td>0.730944</td>\n",
       "      <td>0.832538</td>\n",
       "      <td>0.239172</td>\n",
       "    </tr>\n",
       "    <tr>\n",
       "      <th>19</th>\n",
       "      <td>0.862635</td>\n",
       "      <td>0.125926</td>\n",
       "      <td>0.308391</td>\n",
       "      <td>0.229429</td>\n",
       "      <td>0.320527</td>\n",
       "    </tr>\n",
       "    <tr>\n",
       "      <th>20</th>\n",
       "      <td>0.470623</td>\n",
       "      <td>0.021918</td>\n",
       "      <td>0.451198</td>\n",
       "      <td>0.465698</td>\n",
       "      <td>0.168193</td>\n",
       "    </tr>\n",
       "    <tr>\n",
       "      <th>21</th>\n",
       "      <td>0.908978</td>\n",
       "      <td>0.666378</td>\n",
       "      <td>0.494227</td>\n",
       "      <td>0.587900</td>\n",
       "      <td>0.099233</td>\n",
       "    </tr>\n",
       "    <tr>\n",
       "      <th>22</th>\n",
       "      <td>0.070354</td>\n",
       "      <td>0.888358</td>\n",
       "      <td>0.248833</td>\n",
       "      <td>0.870759</td>\n",
       "      <td>0.994276</td>\n",
       "    </tr>\n",
       "    <tr>\n",
       "      <th>23</th>\n",
       "      <td>0.688830</td>\n",
       "      <td>0.920773</td>\n",
       "      <td>0.685553</td>\n",
       "      <td>0.612221</td>\n",
       "      <td>0.296174</td>\n",
       "    </tr>\n",
       "    <tr>\n",
       "      <th>24</th>\n",
       "      <td>0.141374</td>\n",
       "      <td>0.833480</td>\n",
       "      <td>0.905656</td>\n",
       "      <td>0.985148</td>\n",
       "      <td>0.325260</td>\n",
       "    </tr>\n",
       "    <tr>\n",
       "      <th>25</th>\n",
       "      <td>0.889320</td>\n",
       "      <td>0.909826</td>\n",
       "      <td>0.893700</td>\n",
       "      <td>0.865564</td>\n",
       "      <td>0.660612</td>\n",
       "    </tr>\n",
       "    <tr>\n",
       "      <th>26</th>\n",
       "      <td>0.314667</td>\n",
       "      <td>0.796087</td>\n",
       "      <td>0.856724</td>\n",
       "      <td>0.220376</td>\n",
       "      <td>0.584935</td>\n",
       "    </tr>\n",
       "    <tr>\n",
       "      <th>27</th>\n",
       "      <td>0.921313</td>\n",
       "      <td>0.121086</td>\n",
       "      <td>0.276206</td>\n",
       "      <td>0.207336</td>\n",
       "      <td>0.868746</td>\n",
       "    </tr>\n",
       "    <tr>\n",
       "      <th>28</th>\n",
       "      <td>0.469922</td>\n",
       "      <td>0.695066</td>\n",
       "      <td>0.027487</td>\n",
       "      <td>0.394575</td>\n",
       "      <td>0.213657</td>\n",
       "    </tr>\n",
       "    <tr>\n",
       "      <th>29</th>\n",
       "      <td>0.269996</td>\n",
       "      <td>0.068564</td>\n",
       "      <td>0.794464</td>\n",
       "      <td>0.198214</td>\n",
       "      <td>0.121187</td>\n",
       "    </tr>\n",
       "    <tr>\n",
       "      <th>30</th>\n",
       "      <td>0.561072</td>\n",
       "      <td>0.905992</td>\n",
       "      <td>0.882352</td>\n",
       "      <td>0.124033</td>\n",
       "      <td>0.045598</td>\n",
       "    </tr>\n",
       "    <tr>\n",
       "      <th>31</th>\n",
       "      <td>0.544505</td>\n",
       "      <td>0.743366</td>\n",
       "      <td>0.730111</td>\n",
       "      <td>0.499896</td>\n",
       "      <td>0.916017</td>\n",
       "    </tr>\n",
       "    <tr>\n",
       "      <th>32</th>\n",
       "      <td>0.496262</td>\n",
       "      <td>0.707375</td>\n",
       "      <td>0.195018</td>\n",
       "      <td>0.933476</td>\n",
       "      <td>0.962357</td>\n",
       "    </tr>\n",
       "    <tr>\n",
       "      <th>33</th>\n",
       "      <td>0.238755</td>\n",
       "      <td>0.967672</td>\n",
       "      <td>0.107588</td>\n",
       "      <td>0.084528</td>\n",
       "      <td>0.886614</td>\n",
       "    </tr>\n",
       "    <tr>\n",
       "      <th>34</th>\n",
       "      <td>0.626633</td>\n",
       "      <td>0.309477</td>\n",
       "      <td>0.039228</td>\n",
       "      <td>0.788954</td>\n",
       "      <td>0.600088</td>\n",
       "    </tr>\n",
       "    <tr>\n",
       "      <th>35</th>\n",
       "      <td>0.934543</td>\n",
       "      <td>0.025683</td>\n",
       "      <td>0.391417</td>\n",
       "      <td>0.370489</td>\n",
       "      <td>0.257139</td>\n",
       "    </tr>\n",
       "    <tr>\n",
       "      <th>36</th>\n",
       "      <td>0.680221</td>\n",
       "      <td>0.889862</td>\n",
       "      <td>0.693656</td>\n",
       "      <td>0.081354</td>\n",
       "      <td>0.072445</td>\n",
       "    </tr>\n",
       "    <tr>\n",
       "      <th>37</th>\n",
       "      <td>0.259357</td>\n",
       "      <td>0.292969</td>\n",
       "      <td>0.065747</td>\n",
       "      <td>0.735523</td>\n",
       "      <td>0.490974</td>\n",
       "    </tr>\n",
       "    <tr>\n",
       "      <th>38</th>\n",
       "      <td>0.376472</td>\n",
       "      <td>0.590801</td>\n",
       "      <td>0.546308</td>\n",
       "      <td>0.754500</td>\n",
       "      <td>0.223470</td>\n",
       "    </tr>\n",
       "    <tr>\n",
       "      <th>39</th>\n",
       "      <td>0.135141</td>\n",
       "      <td>0.693331</td>\n",
       "      <td>0.356876</td>\n",
       "      <td>0.157866</td>\n",
       "      <td>0.768414</td>\n",
       "    </tr>\n",
       "    <tr>\n",
       "      <th>40</th>\n",
       "      <td>0.538856</td>\n",
       "      <td>0.165289</td>\n",
       "      <td>0.326444</td>\n",
       "      <td>0.791266</td>\n",
       "      <td>0.708382</td>\n",
       "    </tr>\n",
       "    <tr>\n",
       "      <th>41</th>\n",
       "      <td>0.147688</td>\n",
       "      <td>0.097927</td>\n",
       "      <td>0.451645</td>\n",
       "      <td>0.583179</td>\n",
       "      <td>0.666776</td>\n",
       "    </tr>\n",
       "    <tr>\n",
       "      <th>42</th>\n",
       "      <td>0.347076</td>\n",
       "      <td>0.988082</td>\n",
       "      <td>0.244531</td>\n",
       "      <td>0.408403</td>\n",
       "      <td>0.501485</td>\n",
       "    </tr>\n",
       "    <tr>\n",
       "      <th>43</th>\n",
       "      <td>0.170502</td>\n",
       "      <td>0.610285</td>\n",
       "      <td>0.987191</td>\n",
       "      <td>0.226669</td>\n",
       "      <td>0.945659</td>\n",
       "    </tr>\n",
       "    <tr>\n",
       "      <th>44</th>\n",
       "      <td>0.251037</td>\n",
       "      <td>0.204847</td>\n",
       "      <td>0.014862</td>\n",
       "      <td>0.551347</td>\n",
       "      <td>0.747608</td>\n",
       "    </tr>\n",
       "    <tr>\n",
       "      <th>45</th>\n",
       "      <td>0.366271</td>\n",
       "      <td>0.892116</td>\n",
       "      <td>0.914927</td>\n",
       "      <td>0.602587</td>\n",
       "      <td>0.811377</td>\n",
       "    </tr>\n",
       "    <tr>\n",
       "      <th>46</th>\n",
       "      <td>0.493132</td>\n",
       "      <td>0.621536</td>\n",
       "      <td>0.107152</td>\n",
       "      <td>0.035978</td>\n",
       "      <td>0.165302</td>\n",
       "    </tr>\n",
       "    <tr>\n",
       "      <th>47</th>\n",
       "      <td>0.519399</td>\n",
       "      <td>0.740385</td>\n",
       "      <td>0.984311</td>\n",
       "      <td>0.971669</td>\n",
       "      <td>0.894388</td>\n",
       "    </tr>\n",
       "    <tr>\n",
       "      <th>48</th>\n",
       "      <td>0.910165</td>\n",
       "      <td>0.392295</td>\n",
       "      <td>0.797544</td>\n",
       "      <td>0.364339</td>\n",
       "      <td>0.278975</td>\n",
       "    </tr>\n",
       "    <tr>\n",
       "      <th>49</th>\n",
       "      <td>0.787351</td>\n",
       "      <td>0.604244</td>\n",
       "      <td>0.567594</td>\n",
       "      <td>0.384434</td>\n",
       "      <td>0.314114</td>\n",
       "    </tr>\n",
       "  </tbody>\n",
       "</table>\n",
       "</div>"
      ],
      "text/plain": [
       "           A         B         C         D         E\n",
       "0   0.415155  0.925333  0.630600  0.984929  0.013061\n",
       "1   0.283466  0.521803  0.792452  0.430603  0.847879\n",
       "2   0.847210  0.255624  0.959195  0.042331  0.957855\n",
       "3   0.371838  0.882600  0.349234  0.272545  0.235222\n",
       "4   0.389048  0.998330  0.303237  0.792761  0.946847\n",
       "5   0.864545  0.121713  0.414066  0.203361  0.131147\n",
       "6   0.382463  0.257786  0.325668  0.689817  0.624240\n",
       "7   0.943824  0.857492  0.041456  0.265272  0.580890\n",
       "8   0.688884  0.247205  0.826685  0.582693  0.949561\n",
       "9   0.987702  0.555812  0.144434  0.945948  0.236244\n",
       "10  0.274665  0.035277  0.749505  0.013547  0.112374\n",
       "11  0.653103  0.766217  0.049859  0.311085  0.171021\n",
       "12  0.526705  0.812786  0.377722  0.375966  0.855208\n",
       "13  0.890715  0.268629  0.183012  0.692967  0.692170\n",
       "14  0.469775  0.544898  0.242346  0.337900  0.679294\n",
       "15  0.161809  0.136697  0.919212  0.085907  0.295892\n",
       "16  0.525530  0.204925  0.590772  0.360399  0.994403\n",
       "17  0.149922  0.355643  0.530183  0.963366  0.772938\n",
       "18  0.446427  0.970671  0.730944  0.832538  0.239172\n",
       "19  0.862635  0.125926  0.308391  0.229429  0.320527\n",
       "20  0.470623  0.021918  0.451198  0.465698  0.168193\n",
       "21  0.908978  0.666378  0.494227  0.587900  0.099233\n",
       "22  0.070354  0.888358  0.248833  0.870759  0.994276\n",
       "23  0.688830  0.920773  0.685553  0.612221  0.296174\n",
       "24  0.141374  0.833480  0.905656  0.985148  0.325260\n",
       "25  0.889320  0.909826  0.893700  0.865564  0.660612\n",
       "26  0.314667  0.796087  0.856724  0.220376  0.584935\n",
       "27  0.921313  0.121086  0.276206  0.207336  0.868746\n",
       "28  0.469922  0.695066  0.027487  0.394575  0.213657\n",
       "29  0.269996  0.068564  0.794464  0.198214  0.121187\n",
       "30  0.561072  0.905992  0.882352  0.124033  0.045598\n",
       "31  0.544505  0.743366  0.730111  0.499896  0.916017\n",
       "32  0.496262  0.707375  0.195018  0.933476  0.962357\n",
       "33  0.238755  0.967672  0.107588  0.084528  0.886614\n",
       "34  0.626633  0.309477  0.039228  0.788954  0.600088\n",
       "35  0.934543  0.025683  0.391417  0.370489  0.257139\n",
       "36  0.680221  0.889862  0.693656  0.081354  0.072445\n",
       "37  0.259357  0.292969  0.065747  0.735523  0.490974\n",
       "38  0.376472  0.590801  0.546308  0.754500  0.223470\n",
       "39  0.135141  0.693331  0.356876  0.157866  0.768414\n",
       "40  0.538856  0.165289  0.326444  0.791266  0.708382\n",
       "41  0.147688  0.097927  0.451645  0.583179  0.666776\n",
       "42  0.347076  0.988082  0.244531  0.408403  0.501485\n",
       "43  0.170502  0.610285  0.987191  0.226669  0.945659\n",
       "44  0.251037  0.204847  0.014862  0.551347  0.747608\n",
       "45  0.366271  0.892116  0.914927  0.602587  0.811377\n",
       "46  0.493132  0.621536  0.107152  0.035978  0.165302\n",
       "47  0.519399  0.740385  0.984311  0.971669  0.894388\n",
       "48  0.910165  0.392295  0.797544  0.364339  0.278975\n",
       "49  0.787351  0.604244  0.567594  0.384434  0.314114"
      ]
     },
     "execution_count": 11,
     "metadata": {},
     "output_type": "execute_result"
    }
   ],
   "source": [
    "dataf.columns = ['A', 'B', 'C', 'D', 'E']\n",
    "dataf"
   ]
  },
  {
   "cell_type": "markdown",
   "metadata": {},
   "source": [
    "Example 20\n",
    "Display column B and C from the dataset and also use head function"
   ]
  },
  {
   "cell_type": "code",
   "execution_count": 12,
   "metadata": {},
   "outputs": [
    {
     "data": {
      "text/html": [
       "<div>\n",
       "<style scoped>\n",
       "    .dataframe tbody tr th:only-of-type {\n",
       "        vertical-align: middle;\n",
       "    }\n",
       "\n",
       "    .dataframe tbody tr th {\n",
       "        vertical-align: top;\n",
       "    }\n",
       "\n",
       "    .dataframe thead th {\n",
       "        text-align: right;\n",
       "    }\n",
       "</style>\n",
       "<table border=\"1\" class=\"dataframe\">\n",
       "  <thead>\n",
       "    <tr style=\"text-align: right;\">\n",
       "      <th></th>\n",
       "      <th>B</th>\n",
       "      <th>C</th>\n",
       "    </tr>\n",
       "  </thead>\n",
       "  <tbody>\n",
       "    <tr>\n",
       "      <th>0</th>\n",
       "      <td>0.925333</td>\n",
       "      <td>0.630600</td>\n",
       "    </tr>\n",
       "    <tr>\n",
       "      <th>1</th>\n",
       "      <td>0.521803</td>\n",
       "      <td>0.792452</td>\n",
       "    </tr>\n",
       "    <tr>\n",
       "      <th>2</th>\n",
       "      <td>0.255624</td>\n",
       "      <td>0.959195</td>\n",
       "    </tr>\n",
       "    <tr>\n",
       "      <th>3</th>\n",
       "      <td>0.882600</td>\n",
       "      <td>0.349234</td>\n",
       "    </tr>\n",
       "    <tr>\n",
       "      <th>4</th>\n",
       "      <td>0.998330</td>\n",
       "      <td>0.303237</td>\n",
       "    </tr>\n",
       "    <tr>\n",
       "      <th>5</th>\n",
       "      <td>0.121713</td>\n",
       "      <td>0.414066</td>\n",
       "    </tr>\n",
       "    <tr>\n",
       "      <th>6</th>\n",
       "      <td>0.257786</td>\n",
       "      <td>0.325668</td>\n",
       "    </tr>\n",
       "    <tr>\n",
       "      <th>7</th>\n",
       "      <td>0.857492</td>\n",
       "      <td>0.041456</td>\n",
       "    </tr>\n",
       "    <tr>\n",
       "      <th>8</th>\n",
       "      <td>0.247205</td>\n",
       "      <td>0.826685</td>\n",
       "    </tr>\n",
       "    <tr>\n",
       "      <th>9</th>\n",
       "      <td>0.555812</td>\n",
       "      <td>0.144434</td>\n",
       "    </tr>\n",
       "    <tr>\n",
       "      <th>10</th>\n",
       "      <td>0.035277</td>\n",
       "      <td>0.749505</td>\n",
       "    </tr>\n",
       "    <tr>\n",
       "      <th>11</th>\n",
       "      <td>0.766217</td>\n",
       "      <td>0.049859</td>\n",
       "    </tr>\n",
       "    <tr>\n",
       "      <th>12</th>\n",
       "      <td>0.812786</td>\n",
       "      <td>0.377722</td>\n",
       "    </tr>\n",
       "    <tr>\n",
       "      <th>13</th>\n",
       "      <td>0.268629</td>\n",
       "      <td>0.183012</td>\n",
       "    </tr>\n",
       "    <tr>\n",
       "      <th>14</th>\n",
       "      <td>0.544898</td>\n",
       "      <td>0.242346</td>\n",
       "    </tr>\n",
       "    <tr>\n",
       "      <th>15</th>\n",
       "      <td>0.136697</td>\n",
       "      <td>0.919212</td>\n",
       "    </tr>\n",
       "    <tr>\n",
       "      <th>16</th>\n",
       "      <td>0.204925</td>\n",
       "      <td>0.590772</td>\n",
       "    </tr>\n",
       "    <tr>\n",
       "      <th>17</th>\n",
       "      <td>0.355643</td>\n",
       "      <td>0.530183</td>\n",
       "    </tr>\n",
       "    <tr>\n",
       "      <th>18</th>\n",
       "      <td>0.970671</td>\n",
       "      <td>0.730944</td>\n",
       "    </tr>\n",
       "    <tr>\n",
       "      <th>19</th>\n",
       "      <td>0.125926</td>\n",
       "      <td>0.308391</td>\n",
       "    </tr>\n",
       "    <tr>\n",
       "      <th>20</th>\n",
       "      <td>0.021918</td>\n",
       "      <td>0.451198</td>\n",
       "    </tr>\n",
       "    <tr>\n",
       "      <th>21</th>\n",
       "      <td>0.666378</td>\n",
       "      <td>0.494227</td>\n",
       "    </tr>\n",
       "    <tr>\n",
       "      <th>22</th>\n",
       "      <td>0.888358</td>\n",
       "      <td>0.248833</td>\n",
       "    </tr>\n",
       "    <tr>\n",
       "      <th>23</th>\n",
       "      <td>0.920773</td>\n",
       "      <td>0.685553</td>\n",
       "    </tr>\n",
       "    <tr>\n",
       "      <th>24</th>\n",
       "      <td>0.833480</td>\n",
       "      <td>0.905656</td>\n",
       "    </tr>\n",
       "    <tr>\n",
       "      <th>25</th>\n",
       "      <td>0.909826</td>\n",
       "      <td>0.893700</td>\n",
       "    </tr>\n",
       "    <tr>\n",
       "      <th>26</th>\n",
       "      <td>0.796087</td>\n",
       "      <td>0.856724</td>\n",
       "    </tr>\n",
       "    <tr>\n",
       "      <th>27</th>\n",
       "      <td>0.121086</td>\n",
       "      <td>0.276206</td>\n",
       "    </tr>\n",
       "    <tr>\n",
       "      <th>28</th>\n",
       "      <td>0.695066</td>\n",
       "      <td>0.027487</td>\n",
       "    </tr>\n",
       "    <tr>\n",
       "      <th>29</th>\n",
       "      <td>0.068564</td>\n",
       "      <td>0.794464</td>\n",
       "    </tr>\n",
       "    <tr>\n",
       "      <th>30</th>\n",
       "      <td>0.905992</td>\n",
       "      <td>0.882352</td>\n",
       "    </tr>\n",
       "    <tr>\n",
       "      <th>31</th>\n",
       "      <td>0.743366</td>\n",
       "      <td>0.730111</td>\n",
       "    </tr>\n",
       "    <tr>\n",
       "      <th>32</th>\n",
       "      <td>0.707375</td>\n",
       "      <td>0.195018</td>\n",
       "    </tr>\n",
       "    <tr>\n",
       "      <th>33</th>\n",
       "      <td>0.967672</td>\n",
       "      <td>0.107588</td>\n",
       "    </tr>\n",
       "    <tr>\n",
       "      <th>34</th>\n",
       "      <td>0.309477</td>\n",
       "      <td>0.039228</td>\n",
       "    </tr>\n",
       "    <tr>\n",
       "      <th>35</th>\n",
       "      <td>0.025683</td>\n",
       "      <td>0.391417</td>\n",
       "    </tr>\n",
       "    <tr>\n",
       "      <th>36</th>\n",
       "      <td>0.889862</td>\n",
       "      <td>0.693656</td>\n",
       "    </tr>\n",
       "    <tr>\n",
       "      <th>37</th>\n",
       "      <td>0.292969</td>\n",
       "      <td>0.065747</td>\n",
       "    </tr>\n",
       "    <tr>\n",
       "      <th>38</th>\n",
       "      <td>0.590801</td>\n",
       "      <td>0.546308</td>\n",
       "    </tr>\n",
       "    <tr>\n",
       "      <th>39</th>\n",
       "      <td>0.693331</td>\n",
       "      <td>0.356876</td>\n",
       "    </tr>\n",
       "    <tr>\n",
       "      <th>40</th>\n",
       "      <td>0.165289</td>\n",
       "      <td>0.326444</td>\n",
       "    </tr>\n",
       "    <tr>\n",
       "      <th>41</th>\n",
       "      <td>0.097927</td>\n",
       "      <td>0.451645</td>\n",
       "    </tr>\n",
       "    <tr>\n",
       "      <th>42</th>\n",
       "      <td>0.988082</td>\n",
       "      <td>0.244531</td>\n",
       "    </tr>\n",
       "    <tr>\n",
       "      <th>43</th>\n",
       "      <td>0.610285</td>\n",
       "      <td>0.987191</td>\n",
       "    </tr>\n",
       "    <tr>\n",
       "      <th>44</th>\n",
       "      <td>0.204847</td>\n",
       "      <td>0.014862</td>\n",
       "    </tr>\n",
       "    <tr>\n",
       "      <th>45</th>\n",
       "      <td>0.892116</td>\n",
       "      <td>0.914927</td>\n",
       "    </tr>\n",
       "    <tr>\n",
       "      <th>46</th>\n",
       "      <td>0.621536</td>\n",
       "      <td>0.107152</td>\n",
       "    </tr>\n",
       "    <tr>\n",
       "      <th>47</th>\n",
       "      <td>0.740385</td>\n",
       "      <td>0.984311</td>\n",
       "    </tr>\n",
       "    <tr>\n",
       "      <th>48</th>\n",
       "      <td>0.392295</td>\n",
       "      <td>0.797544</td>\n",
       "    </tr>\n",
       "    <tr>\n",
       "      <th>49</th>\n",
       "      <td>0.604244</td>\n",
       "      <td>0.567594</td>\n",
       "    </tr>\n",
       "  </tbody>\n",
       "</table>\n",
       "</div>"
      ],
      "text/plain": [
       "           B         C\n",
       "0   0.925333  0.630600\n",
       "1   0.521803  0.792452\n",
       "2   0.255624  0.959195\n",
       "3   0.882600  0.349234\n",
       "4   0.998330  0.303237\n",
       "5   0.121713  0.414066\n",
       "6   0.257786  0.325668\n",
       "7   0.857492  0.041456\n",
       "8   0.247205  0.826685\n",
       "9   0.555812  0.144434\n",
       "10  0.035277  0.749505\n",
       "11  0.766217  0.049859\n",
       "12  0.812786  0.377722\n",
       "13  0.268629  0.183012\n",
       "14  0.544898  0.242346\n",
       "15  0.136697  0.919212\n",
       "16  0.204925  0.590772\n",
       "17  0.355643  0.530183\n",
       "18  0.970671  0.730944\n",
       "19  0.125926  0.308391\n",
       "20  0.021918  0.451198\n",
       "21  0.666378  0.494227\n",
       "22  0.888358  0.248833\n",
       "23  0.920773  0.685553\n",
       "24  0.833480  0.905656\n",
       "25  0.909826  0.893700\n",
       "26  0.796087  0.856724\n",
       "27  0.121086  0.276206\n",
       "28  0.695066  0.027487\n",
       "29  0.068564  0.794464\n",
       "30  0.905992  0.882352\n",
       "31  0.743366  0.730111\n",
       "32  0.707375  0.195018\n",
       "33  0.967672  0.107588\n",
       "34  0.309477  0.039228\n",
       "35  0.025683  0.391417\n",
       "36  0.889862  0.693656\n",
       "37  0.292969  0.065747\n",
       "38  0.590801  0.546308\n",
       "39  0.693331  0.356876\n",
       "40  0.165289  0.326444\n",
       "41  0.097927  0.451645\n",
       "42  0.988082  0.244531\n",
       "43  0.610285  0.987191\n",
       "44  0.204847  0.014862\n",
       "45  0.892116  0.914927\n",
       "46  0.621536  0.107152\n",
       "47  0.740385  0.984311\n",
       "48  0.392295  0.797544\n",
       "49  0.604244  0.567594"
      ]
     },
     "execution_count": 12,
     "metadata": {},
     "output_type": "execute_result"
    }
   ],
   "source": [
    "dataf[['B', 'C']]"
   ]
  },
  {
   "cell_type": "code",
   "execution_count": 13,
   "metadata": {},
   "outputs": [
    {
     "data": {
      "text/html": [
       "<div>\n",
       "<style scoped>\n",
       "    .dataframe tbody tr th:only-of-type {\n",
       "        vertical-align: middle;\n",
       "    }\n",
       "\n",
       "    .dataframe tbody tr th {\n",
       "        vertical-align: top;\n",
       "    }\n",
       "\n",
       "    .dataframe thead th {\n",
       "        text-align: right;\n",
       "    }\n",
       "</style>\n",
       "<table border=\"1\" class=\"dataframe\">\n",
       "  <thead>\n",
       "    <tr style=\"text-align: right;\">\n",
       "      <th></th>\n",
       "      <th>A</th>\n",
       "      <th>B</th>\n",
       "      <th>C</th>\n",
       "      <th>D</th>\n",
       "      <th>E</th>\n",
       "    </tr>\n",
       "  </thead>\n",
       "  <tbody>\n",
       "    <tr>\n",
       "      <th>0</th>\n",
       "      <td>0.415155</td>\n",
       "      <td>0.925333</td>\n",
       "      <td>0.630600</td>\n",
       "      <td>0.984929</td>\n",
       "      <td>0.013061</td>\n",
       "    </tr>\n",
       "    <tr>\n",
       "      <th>1</th>\n",
       "      <td>0.283466</td>\n",
       "      <td>0.521803</td>\n",
       "      <td>0.792452</td>\n",
       "      <td>0.430603</td>\n",
       "      <td>0.847879</td>\n",
       "    </tr>\n",
       "    <tr>\n",
       "      <th>2</th>\n",
       "      <td>0.847210</td>\n",
       "      <td>0.255624</td>\n",
       "      <td>0.959195</td>\n",
       "      <td>0.042331</td>\n",
       "      <td>0.957855</td>\n",
       "    </tr>\n",
       "    <tr>\n",
       "      <th>3</th>\n",
       "      <td>0.371838</td>\n",
       "      <td>0.882600</td>\n",
       "      <td>0.349234</td>\n",
       "      <td>0.272545</td>\n",
       "      <td>0.235222</td>\n",
       "    </tr>\n",
       "    <tr>\n",
       "      <th>4</th>\n",
       "      <td>0.389048</td>\n",
       "      <td>0.998330</td>\n",
       "      <td>0.303237</td>\n",
       "      <td>0.792761</td>\n",
       "      <td>0.946847</td>\n",
       "    </tr>\n",
       "  </tbody>\n",
       "</table>\n",
       "</div>"
      ],
      "text/plain": [
       "          A         B         C         D         E\n",
       "0  0.415155  0.925333  0.630600  0.984929  0.013061\n",
       "1  0.283466  0.521803  0.792452  0.430603  0.847879\n",
       "2  0.847210  0.255624  0.959195  0.042331  0.957855\n",
       "3  0.371838  0.882600  0.349234  0.272545  0.235222\n",
       "4  0.389048  0.998330  0.303237  0.792761  0.946847"
      ]
     },
     "execution_count": 13,
     "metadata": {},
     "output_type": "execute_result"
    }
   ],
   "source": [
    "dataf.head()"
   ]
  },
  {
   "cell_type": "markdown",
   "metadata": {},
   "source": [
    "Example 21\n",
    "Demonstrate the use of iloc function"
   ]
  },
  {
   "cell_type": "code",
   "execution_count": 14,
   "metadata": {},
   "outputs": [
    {
     "data": {
      "text/html": [
       "<div>\n",
       "<style scoped>\n",
       "    .dataframe tbody tr th:only-of-type {\n",
       "        vertical-align: middle;\n",
       "    }\n",
       "\n",
       "    .dataframe tbody tr th {\n",
       "        vertical-align: top;\n",
       "    }\n",
       "\n",
       "    .dataframe thead th {\n",
       "        text-align: right;\n",
       "    }\n",
       "</style>\n",
       "<table border=\"1\" class=\"dataframe\">\n",
       "  <thead>\n",
       "    <tr style=\"text-align: right;\">\n",
       "      <th></th>\n",
       "      <th>A</th>\n",
       "      <th>B</th>\n",
       "    </tr>\n",
       "  </thead>\n",
       "  <tbody>\n",
       "    <tr>\n",
       "      <th>0</th>\n",
       "      <td>0.415155</td>\n",
       "      <td>0.925333</td>\n",
       "    </tr>\n",
       "    <tr>\n",
       "      <th>1</th>\n",
       "      <td>0.283466</td>\n",
       "      <td>0.521803</td>\n",
       "    </tr>\n",
       "    <tr>\n",
       "      <th>2</th>\n",
       "      <td>0.847210</td>\n",
       "      <td>0.255624</td>\n",
       "    </tr>\n",
       "    <tr>\n",
       "      <th>3</th>\n",
       "      <td>0.371838</td>\n",
       "      <td>0.882600</td>\n",
       "    </tr>\n",
       "    <tr>\n",
       "      <th>4</th>\n",
       "      <td>0.389048</td>\n",
       "      <td>0.998330</td>\n",
       "    </tr>\n",
       "    <tr>\n",
       "      <th>5</th>\n",
       "      <td>0.864545</td>\n",
       "      <td>0.121713</td>\n",
       "    </tr>\n",
       "    <tr>\n",
       "      <th>6</th>\n",
       "      <td>0.382463</td>\n",
       "      <td>0.257786</td>\n",
       "    </tr>\n",
       "    <tr>\n",
       "      <th>7</th>\n",
       "      <td>0.943824</td>\n",
       "      <td>0.857492</td>\n",
       "    </tr>\n",
       "    <tr>\n",
       "      <th>8</th>\n",
       "      <td>0.688884</td>\n",
       "      <td>0.247205</td>\n",
       "    </tr>\n",
       "    <tr>\n",
       "      <th>9</th>\n",
       "      <td>0.987702</td>\n",
       "      <td>0.555812</td>\n",
       "    </tr>\n",
       "    <tr>\n",
       "      <th>10</th>\n",
       "      <td>0.274665</td>\n",
       "      <td>0.035277</td>\n",
       "    </tr>\n",
       "    <tr>\n",
       "      <th>11</th>\n",
       "      <td>0.653103</td>\n",
       "      <td>0.766217</td>\n",
       "    </tr>\n",
       "    <tr>\n",
       "      <th>12</th>\n",
       "      <td>0.526705</td>\n",
       "      <td>0.812786</td>\n",
       "    </tr>\n",
       "    <tr>\n",
       "      <th>13</th>\n",
       "      <td>0.890715</td>\n",
       "      <td>0.268629</td>\n",
       "    </tr>\n",
       "    <tr>\n",
       "      <th>14</th>\n",
       "      <td>0.469775</td>\n",
       "      <td>0.544898</td>\n",
       "    </tr>\n",
       "    <tr>\n",
       "      <th>15</th>\n",
       "      <td>0.161809</td>\n",
       "      <td>0.136697</td>\n",
       "    </tr>\n",
       "    <tr>\n",
       "      <th>16</th>\n",
       "      <td>0.525530</td>\n",
       "      <td>0.204925</td>\n",
       "    </tr>\n",
       "    <tr>\n",
       "      <th>17</th>\n",
       "      <td>0.149922</td>\n",
       "      <td>0.355643</td>\n",
       "    </tr>\n",
       "    <tr>\n",
       "      <th>18</th>\n",
       "      <td>0.446427</td>\n",
       "      <td>0.970671</td>\n",
       "    </tr>\n",
       "    <tr>\n",
       "      <th>19</th>\n",
       "      <td>0.862635</td>\n",
       "      <td>0.125926</td>\n",
       "    </tr>\n",
       "    <tr>\n",
       "      <th>20</th>\n",
       "      <td>0.470623</td>\n",
       "      <td>0.021918</td>\n",
       "    </tr>\n",
       "    <tr>\n",
       "      <th>21</th>\n",
       "      <td>0.908978</td>\n",
       "      <td>0.666378</td>\n",
       "    </tr>\n",
       "    <tr>\n",
       "      <th>22</th>\n",
       "      <td>0.070354</td>\n",
       "      <td>0.888358</td>\n",
       "    </tr>\n",
       "    <tr>\n",
       "      <th>23</th>\n",
       "      <td>0.688830</td>\n",
       "      <td>0.920773</td>\n",
       "    </tr>\n",
       "    <tr>\n",
       "      <th>24</th>\n",
       "      <td>0.141374</td>\n",
       "      <td>0.833480</td>\n",
       "    </tr>\n",
       "    <tr>\n",
       "      <th>25</th>\n",
       "      <td>0.889320</td>\n",
       "      <td>0.909826</td>\n",
       "    </tr>\n",
       "    <tr>\n",
       "      <th>26</th>\n",
       "      <td>0.314667</td>\n",
       "      <td>0.796087</td>\n",
       "    </tr>\n",
       "    <tr>\n",
       "      <th>27</th>\n",
       "      <td>0.921313</td>\n",
       "      <td>0.121086</td>\n",
       "    </tr>\n",
       "    <tr>\n",
       "      <th>28</th>\n",
       "      <td>0.469922</td>\n",
       "      <td>0.695066</td>\n",
       "    </tr>\n",
       "    <tr>\n",
       "      <th>29</th>\n",
       "      <td>0.269996</td>\n",
       "      <td>0.068564</td>\n",
       "    </tr>\n",
       "    <tr>\n",
       "      <th>30</th>\n",
       "      <td>0.561072</td>\n",
       "      <td>0.905992</td>\n",
       "    </tr>\n",
       "    <tr>\n",
       "      <th>31</th>\n",
       "      <td>0.544505</td>\n",
       "      <td>0.743366</td>\n",
       "    </tr>\n",
       "    <tr>\n",
       "      <th>32</th>\n",
       "      <td>0.496262</td>\n",
       "      <td>0.707375</td>\n",
       "    </tr>\n",
       "    <tr>\n",
       "      <th>33</th>\n",
       "      <td>0.238755</td>\n",
       "      <td>0.967672</td>\n",
       "    </tr>\n",
       "    <tr>\n",
       "      <th>34</th>\n",
       "      <td>0.626633</td>\n",
       "      <td>0.309477</td>\n",
       "    </tr>\n",
       "    <tr>\n",
       "      <th>35</th>\n",
       "      <td>0.934543</td>\n",
       "      <td>0.025683</td>\n",
       "    </tr>\n",
       "    <tr>\n",
       "      <th>36</th>\n",
       "      <td>0.680221</td>\n",
       "      <td>0.889862</td>\n",
       "    </tr>\n",
       "    <tr>\n",
       "      <th>37</th>\n",
       "      <td>0.259357</td>\n",
       "      <td>0.292969</td>\n",
       "    </tr>\n",
       "    <tr>\n",
       "      <th>38</th>\n",
       "      <td>0.376472</td>\n",
       "      <td>0.590801</td>\n",
       "    </tr>\n",
       "    <tr>\n",
       "      <th>39</th>\n",
       "      <td>0.135141</td>\n",
       "      <td>0.693331</td>\n",
       "    </tr>\n",
       "    <tr>\n",
       "      <th>40</th>\n",
       "      <td>0.538856</td>\n",
       "      <td>0.165289</td>\n",
       "    </tr>\n",
       "    <tr>\n",
       "      <th>41</th>\n",
       "      <td>0.147688</td>\n",
       "      <td>0.097927</td>\n",
       "    </tr>\n",
       "    <tr>\n",
       "      <th>42</th>\n",
       "      <td>0.347076</td>\n",
       "      <td>0.988082</td>\n",
       "    </tr>\n",
       "    <tr>\n",
       "      <th>43</th>\n",
       "      <td>0.170502</td>\n",
       "      <td>0.610285</td>\n",
       "    </tr>\n",
       "    <tr>\n",
       "      <th>44</th>\n",
       "      <td>0.251037</td>\n",
       "      <td>0.204847</td>\n",
       "    </tr>\n",
       "    <tr>\n",
       "      <th>45</th>\n",
       "      <td>0.366271</td>\n",
       "      <td>0.892116</td>\n",
       "    </tr>\n",
       "    <tr>\n",
       "      <th>46</th>\n",
       "      <td>0.493132</td>\n",
       "      <td>0.621536</td>\n",
       "    </tr>\n",
       "    <tr>\n",
       "      <th>47</th>\n",
       "      <td>0.519399</td>\n",
       "      <td>0.740385</td>\n",
       "    </tr>\n",
       "    <tr>\n",
       "      <th>48</th>\n",
       "      <td>0.910165</td>\n",
       "      <td>0.392295</td>\n",
       "    </tr>\n",
       "    <tr>\n",
       "      <th>49</th>\n",
       "      <td>0.787351</td>\n",
       "      <td>0.604244</td>\n",
       "    </tr>\n",
       "  </tbody>\n",
       "</table>\n",
       "</div>"
      ],
      "text/plain": [
       "           A         B\n",
       "0   0.415155  0.925333\n",
       "1   0.283466  0.521803\n",
       "2   0.847210  0.255624\n",
       "3   0.371838  0.882600\n",
       "4   0.389048  0.998330\n",
       "5   0.864545  0.121713\n",
       "6   0.382463  0.257786\n",
       "7   0.943824  0.857492\n",
       "8   0.688884  0.247205\n",
       "9   0.987702  0.555812\n",
       "10  0.274665  0.035277\n",
       "11  0.653103  0.766217\n",
       "12  0.526705  0.812786\n",
       "13  0.890715  0.268629\n",
       "14  0.469775  0.544898\n",
       "15  0.161809  0.136697\n",
       "16  0.525530  0.204925\n",
       "17  0.149922  0.355643\n",
       "18  0.446427  0.970671\n",
       "19  0.862635  0.125926\n",
       "20  0.470623  0.021918\n",
       "21  0.908978  0.666378\n",
       "22  0.070354  0.888358\n",
       "23  0.688830  0.920773\n",
       "24  0.141374  0.833480\n",
       "25  0.889320  0.909826\n",
       "26  0.314667  0.796087\n",
       "27  0.921313  0.121086\n",
       "28  0.469922  0.695066\n",
       "29  0.269996  0.068564\n",
       "30  0.561072  0.905992\n",
       "31  0.544505  0.743366\n",
       "32  0.496262  0.707375\n",
       "33  0.238755  0.967672\n",
       "34  0.626633  0.309477\n",
       "35  0.934543  0.025683\n",
       "36  0.680221  0.889862\n",
       "37  0.259357  0.292969\n",
       "38  0.376472  0.590801\n",
       "39  0.135141  0.693331\n",
       "40  0.538856  0.165289\n",
       "41  0.147688  0.097927\n",
       "42  0.347076  0.988082\n",
       "43  0.170502  0.610285\n",
       "44  0.251037  0.204847\n",
       "45  0.366271  0.892116\n",
       "46  0.493132  0.621536\n",
       "47  0.519399  0.740385\n",
       "48  0.910165  0.392295\n",
       "49  0.787351  0.604244"
      ]
     },
     "execution_count": 14,
     "metadata": {},
     "output_type": "execute_result"
    }
   ],
   "source": [
    "dataf.iloc[:, 0:2]   # : means all rows and 0:2 means cloumns till 2 "
   ]
  },
  {
   "cell_type": "markdown",
   "metadata": {},
   "source": [
    "Example 22\n",
    "Print column A to C and fimd the value on 0,0"
   ]
  },
  {
   "cell_type": "code",
   "execution_count": 15,
   "metadata": {},
   "outputs": [
    {
     "data": {
      "text/html": [
       "<div>\n",
       "<style scoped>\n",
       "    .dataframe tbody tr th:only-of-type {\n",
       "        vertical-align: middle;\n",
       "    }\n",
       "\n",
       "    .dataframe tbody tr th {\n",
       "        vertical-align: top;\n",
       "    }\n",
       "\n",
       "    .dataframe thead th {\n",
       "        text-align: right;\n",
       "    }\n",
       "</style>\n",
       "<table border=\"1\" class=\"dataframe\">\n",
       "  <thead>\n",
       "    <tr style=\"text-align: right;\">\n",
       "      <th></th>\n",
       "      <th>A</th>\n",
       "      <th>B</th>\n",
       "      <th>C</th>\n",
       "    </tr>\n",
       "  </thead>\n",
       "  <tbody>\n",
       "    <tr>\n",
       "      <th>0</th>\n",
       "      <td>0.415155</td>\n",
       "      <td>0.925333</td>\n",
       "      <td>0.630600</td>\n",
       "    </tr>\n",
       "    <tr>\n",
       "      <th>1</th>\n",
       "      <td>0.283466</td>\n",
       "      <td>0.521803</td>\n",
       "      <td>0.792452</td>\n",
       "    </tr>\n",
       "    <tr>\n",
       "      <th>2</th>\n",
       "      <td>0.847210</td>\n",
       "      <td>0.255624</td>\n",
       "      <td>0.959195</td>\n",
       "    </tr>\n",
       "    <tr>\n",
       "      <th>3</th>\n",
       "      <td>0.371838</td>\n",
       "      <td>0.882600</td>\n",
       "      <td>0.349234</td>\n",
       "    </tr>\n",
       "    <tr>\n",
       "      <th>4</th>\n",
       "      <td>0.389048</td>\n",
       "      <td>0.998330</td>\n",
       "      <td>0.303237</td>\n",
       "    </tr>\n",
       "    <tr>\n",
       "      <th>5</th>\n",
       "      <td>0.864545</td>\n",
       "      <td>0.121713</td>\n",
       "      <td>0.414066</td>\n",
       "    </tr>\n",
       "    <tr>\n",
       "      <th>6</th>\n",
       "      <td>0.382463</td>\n",
       "      <td>0.257786</td>\n",
       "      <td>0.325668</td>\n",
       "    </tr>\n",
       "    <tr>\n",
       "      <th>7</th>\n",
       "      <td>0.943824</td>\n",
       "      <td>0.857492</td>\n",
       "      <td>0.041456</td>\n",
       "    </tr>\n",
       "    <tr>\n",
       "      <th>8</th>\n",
       "      <td>0.688884</td>\n",
       "      <td>0.247205</td>\n",
       "      <td>0.826685</td>\n",
       "    </tr>\n",
       "    <tr>\n",
       "      <th>9</th>\n",
       "      <td>0.987702</td>\n",
       "      <td>0.555812</td>\n",
       "      <td>0.144434</td>\n",
       "    </tr>\n",
       "    <tr>\n",
       "      <th>10</th>\n",
       "      <td>0.274665</td>\n",
       "      <td>0.035277</td>\n",
       "      <td>0.749505</td>\n",
       "    </tr>\n",
       "    <tr>\n",
       "      <th>11</th>\n",
       "      <td>0.653103</td>\n",
       "      <td>0.766217</td>\n",
       "      <td>0.049859</td>\n",
       "    </tr>\n",
       "    <tr>\n",
       "      <th>12</th>\n",
       "      <td>0.526705</td>\n",
       "      <td>0.812786</td>\n",
       "      <td>0.377722</td>\n",
       "    </tr>\n",
       "    <tr>\n",
       "      <th>13</th>\n",
       "      <td>0.890715</td>\n",
       "      <td>0.268629</td>\n",
       "      <td>0.183012</td>\n",
       "    </tr>\n",
       "    <tr>\n",
       "      <th>14</th>\n",
       "      <td>0.469775</td>\n",
       "      <td>0.544898</td>\n",
       "      <td>0.242346</td>\n",
       "    </tr>\n",
       "    <tr>\n",
       "      <th>15</th>\n",
       "      <td>0.161809</td>\n",
       "      <td>0.136697</td>\n",
       "      <td>0.919212</td>\n",
       "    </tr>\n",
       "    <tr>\n",
       "      <th>16</th>\n",
       "      <td>0.525530</td>\n",
       "      <td>0.204925</td>\n",
       "      <td>0.590772</td>\n",
       "    </tr>\n",
       "    <tr>\n",
       "      <th>17</th>\n",
       "      <td>0.149922</td>\n",
       "      <td>0.355643</td>\n",
       "      <td>0.530183</td>\n",
       "    </tr>\n",
       "    <tr>\n",
       "      <th>18</th>\n",
       "      <td>0.446427</td>\n",
       "      <td>0.970671</td>\n",
       "      <td>0.730944</td>\n",
       "    </tr>\n",
       "    <tr>\n",
       "      <th>19</th>\n",
       "      <td>0.862635</td>\n",
       "      <td>0.125926</td>\n",
       "      <td>0.308391</td>\n",
       "    </tr>\n",
       "    <tr>\n",
       "      <th>20</th>\n",
       "      <td>0.470623</td>\n",
       "      <td>0.021918</td>\n",
       "      <td>0.451198</td>\n",
       "    </tr>\n",
       "    <tr>\n",
       "      <th>21</th>\n",
       "      <td>0.908978</td>\n",
       "      <td>0.666378</td>\n",
       "      <td>0.494227</td>\n",
       "    </tr>\n",
       "    <tr>\n",
       "      <th>22</th>\n",
       "      <td>0.070354</td>\n",
       "      <td>0.888358</td>\n",
       "      <td>0.248833</td>\n",
       "    </tr>\n",
       "    <tr>\n",
       "      <th>23</th>\n",
       "      <td>0.688830</td>\n",
       "      <td>0.920773</td>\n",
       "      <td>0.685553</td>\n",
       "    </tr>\n",
       "    <tr>\n",
       "      <th>24</th>\n",
       "      <td>0.141374</td>\n",
       "      <td>0.833480</td>\n",
       "      <td>0.905656</td>\n",
       "    </tr>\n",
       "    <tr>\n",
       "      <th>25</th>\n",
       "      <td>0.889320</td>\n",
       "      <td>0.909826</td>\n",
       "      <td>0.893700</td>\n",
       "    </tr>\n",
       "    <tr>\n",
       "      <th>26</th>\n",
       "      <td>0.314667</td>\n",
       "      <td>0.796087</td>\n",
       "      <td>0.856724</td>\n",
       "    </tr>\n",
       "    <tr>\n",
       "      <th>27</th>\n",
       "      <td>0.921313</td>\n",
       "      <td>0.121086</td>\n",
       "      <td>0.276206</td>\n",
       "    </tr>\n",
       "    <tr>\n",
       "      <th>28</th>\n",
       "      <td>0.469922</td>\n",
       "      <td>0.695066</td>\n",
       "      <td>0.027487</td>\n",
       "    </tr>\n",
       "    <tr>\n",
       "      <th>29</th>\n",
       "      <td>0.269996</td>\n",
       "      <td>0.068564</td>\n",
       "      <td>0.794464</td>\n",
       "    </tr>\n",
       "    <tr>\n",
       "      <th>30</th>\n",
       "      <td>0.561072</td>\n",
       "      <td>0.905992</td>\n",
       "      <td>0.882352</td>\n",
       "    </tr>\n",
       "    <tr>\n",
       "      <th>31</th>\n",
       "      <td>0.544505</td>\n",
       "      <td>0.743366</td>\n",
       "      <td>0.730111</td>\n",
       "    </tr>\n",
       "    <tr>\n",
       "      <th>32</th>\n",
       "      <td>0.496262</td>\n",
       "      <td>0.707375</td>\n",
       "      <td>0.195018</td>\n",
       "    </tr>\n",
       "    <tr>\n",
       "      <th>33</th>\n",
       "      <td>0.238755</td>\n",
       "      <td>0.967672</td>\n",
       "      <td>0.107588</td>\n",
       "    </tr>\n",
       "    <tr>\n",
       "      <th>34</th>\n",
       "      <td>0.626633</td>\n",
       "      <td>0.309477</td>\n",
       "      <td>0.039228</td>\n",
       "    </tr>\n",
       "    <tr>\n",
       "      <th>35</th>\n",
       "      <td>0.934543</td>\n",
       "      <td>0.025683</td>\n",
       "      <td>0.391417</td>\n",
       "    </tr>\n",
       "    <tr>\n",
       "      <th>36</th>\n",
       "      <td>0.680221</td>\n",
       "      <td>0.889862</td>\n",
       "      <td>0.693656</td>\n",
       "    </tr>\n",
       "    <tr>\n",
       "      <th>37</th>\n",
       "      <td>0.259357</td>\n",
       "      <td>0.292969</td>\n",
       "      <td>0.065747</td>\n",
       "    </tr>\n",
       "    <tr>\n",
       "      <th>38</th>\n",
       "      <td>0.376472</td>\n",
       "      <td>0.590801</td>\n",
       "      <td>0.546308</td>\n",
       "    </tr>\n",
       "    <tr>\n",
       "      <th>39</th>\n",
       "      <td>0.135141</td>\n",
       "      <td>0.693331</td>\n",
       "      <td>0.356876</td>\n",
       "    </tr>\n",
       "    <tr>\n",
       "      <th>40</th>\n",
       "      <td>0.538856</td>\n",
       "      <td>0.165289</td>\n",
       "      <td>0.326444</td>\n",
       "    </tr>\n",
       "    <tr>\n",
       "      <th>41</th>\n",
       "      <td>0.147688</td>\n",
       "      <td>0.097927</td>\n",
       "      <td>0.451645</td>\n",
       "    </tr>\n",
       "    <tr>\n",
       "      <th>42</th>\n",
       "      <td>0.347076</td>\n",
       "      <td>0.988082</td>\n",
       "      <td>0.244531</td>\n",
       "    </tr>\n",
       "    <tr>\n",
       "      <th>43</th>\n",
       "      <td>0.170502</td>\n",
       "      <td>0.610285</td>\n",
       "      <td>0.987191</td>\n",
       "    </tr>\n",
       "    <tr>\n",
       "      <th>44</th>\n",
       "      <td>0.251037</td>\n",
       "      <td>0.204847</td>\n",
       "      <td>0.014862</td>\n",
       "    </tr>\n",
       "    <tr>\n",
       "      <th>45</th>\n",
       "      <td>0.366271</td>\n",
       "      <td>0.892116</td>\n",
       "      <td>0.914927</td>\n",
       "    </tr>\n",
       "    <tr>\n",
       "      <th>46</th>\n",
       "      <td>0.493132</td>\n",
       "      <td>0.621536</td>\n",
       "      <td>0.107152</td>\n",
       "    </tr>\n",
       "    <tr>\n",
       "      <th>47</th>\n",
       "      <td>0.519399</td>\n",
       "      <td>0.740385</td>\n",
       "      <td>0.984311</td>\n",
       "    </tr>\n",
       "    <tr>\n",
       "      <th>48</th>\n",
       "      <td>0.910165</td>\n",
       "      <td>0.392295</td>\n",
       "      <td>0.797544</td>\n",
       "    </tr>\n",
       "    <tr>\n",
       "      <th>49</th>\n",
       "      <td>0.787351</td>\n",
       "      <td>0.604244</td>\n",
       "      <td>0.567594</td>\n",
       "    </tr>\n",
       "  </tbody>\n",
       "</table>\n",
       "</div>"
      ],
      "text/plain": [
       "           A         B         C\n",
       "0   0.415155  0.925333  0.630600\n",
       "1   0.283466  0.521803  0.792452\n",
       "2   0.847210  0.255624  0.959195\n",
       "3   0.371838  0.882600  0.349234\n",
       "4   0.389048  0.998330  0.303237\n",
       "5   0.864545  0.121713  0.414066\n",
       "6   0.382463  0.257786  0.325668\n",
       "7   0.943824  0.857492  0.041456\n",
       "8   0.688884  0.247205  0.826685\n",
       "9   0.987702  0.555812  0.144434\n",
       "10  0.274665  0.035277  0.749505\n",
       "11  0.653103  0.766217  0.049859\n",
       "12  0.526705  0.812786  0.377722\n",
       "13  0.890715  0.268629  0.183012\n",
       "14  0.469775  0.544898  0.242346\n",
       "15  0.161809  0.136697  0.919212\n",
       "16  0.525530  0.204925  0.590772\n",
       "17  0.149922  0.355643  0.530183\n",
       "18  0.446427  0.970671  0.730944\n",
       "19  0.862635  0.125926  0.308391\n",
       "20  0.470623  0.021918  0.451198\n",
       "21  0.908978  0.666378  0.494227\n",
       "22  0.070354  0.888358  0.248833\n",
       "23  0.688830  0.920773  0.685553\n",
       "24  0.141374  0.833480  0.905656\n",
       "25  0.889320  0.909826  0.893700\n",
       "26  0.314667  0.796087  0.856724\n",
       "27  0.921313  0.121086  0.276206\n",
       "28  0.469922  0.695066  0.027487\n",
       "29  0.269996  0.068564  0.794464\n",
       "30  0.561072  0.905992  0.882352\n",
       "31  0.544505  0.743366  0.730111\n",
       "32  0.496262  0.707375  0.195018\n",
       "33  0.238755  0.967672  0.107588\n",
       "34  0.626633  0.309477  0.039228\n",
       "35  0.934543  0.025683  0.391417\n",
       "36  0.680221  0.889862  0.693656\n",
       "37  0.259357  0.292969  0.065747\n",
       "38  0.376472  0.590801  0.546308\n",
       "39  0.135141  0.693331  0.356876\n",
       "40  0.538856  0.165289  0.326444\n",
       "41  0.147688  0.097927  0.451645\n",
       "42  0.347076  0.988082  0.244531\n",
       "43  0.170502  0.610285  0.987191\n",
       "44  0.251037  0.204847  0.014862\n",
       "45  0.366271  0.892116  0.914927\n",
       "46  0.493132  0.621536  0.107152\n",
       "47  0.519399  0.740385  0.984311\n",
       "48  0.910165  0.392295  0.797544\n",
       "49  0.787351  0.604244  0.567594"
      ]
     },
     "execution_count": 15,
     "metadata": {},
     "output_type": "execute_result"
    }
   ],
   "source": [
    "dataf.loc[:, 'A':'C'] # loc function use to specify the columns label or name"
   ]
  },
  {
   "cell_type": "markdown",
   "metadata": {},
   "source": [
    "Example 23\n",
    "Print 1st 12 elements of column 2 and 4"
   ]
  },
  {
   "cell_type": "code",
   "execution_count": 16,
   "metadata": {},
   "outputs": [
    {
     "data": {
      "text/html": [
       "<div>\n",
       "<style scoped>\n",
       "    .dataframe tbody tr th:only-of-type {\n",
       "        vertical-align: middle;\n",
       "    }\n",
       "\n",
       "    .dataframe tbody tr th {\n",
       "        vertical-align: top;\n",
       "    }\n",
       "\n",
       "    .dataframe thead th {\n",
       "        text-align: right;\n",
       "    }\n",
       "</style>\n",
       "<table border=\"1\" class=\"dataframe\">\n",
       "  <thead>\n",
       "    <tr style=\"text-align: right;\">\n",
       "      <th></th>\n",
       "      <th>C</th>\n",
       "      <th>D</th>\n",
       "    </tr>\n",
       "  </thead>\n",
       "  <tbody>\n",
       "    <tr>\n",
       "      <th>0</th>\n",
       "      <td>0.630600</td>\n",
       "      <td>0.984929</td>\n",
       "    </tr>\n",
       "    <tr>\n",
       "      <th>1</th>\n",
       "      <td>0.792452</td>\n",
       "      <td>0.430603</td>\n",
       "    </tr>\n",
       "    <tr>\n",
       "      <th>2</th>\n",
       "      <td>0.959195</td>\n",
       "      <td>0.042331</td>\n",
       "    </tr>\n",
       "    <tr>\n",
       "      <th>3</th>\n",
       "      <td>0.349234</td>\n",
       "      <td>0.272545</td>\n",
       "    </tr>\n",
       "    <tr>\n",
       "      <th>4</th>\n",
       "      <td>0.303237</td>\n",
       "      <td>0.792761</td>\n",
       "    </tr>\n",
       "    <tr>\n",
       "      <th>5</th>\n",
       "      <td>0.414066</td>\n",
       "      <td>0.203361</td>\n",
       "    </tr>\n",
       "    <tr>\n",
       "      <th>6</th>\n",
       "      <td>0.325668</td>\n",
       "      <td>0.689817</td>\n",
       "    </tr>\n",
       "    <tr>\n",
       "      <th>7</th>\n",
       "      <td>0.041456</td>\n",
       "      <td>0.265272</td>\n",
       "    </tr>\n",
       "    <tr>\n",
       "      <th>8</th>\n",
       "      <td>0.826685</td>\n",
       "      <td>0.582693</td>\n",
       "    </tr>\n",
       "    <tr>\n",
       "      <th>9</th>\n",
       "      <td>0.144434</td>\n",
       "      <td>0.945948</td>\n",
       "    </tr>\n",
       "    <tr>\n",
       "      <th>10</th>\n",
       "      <td>0.749505</td>\n",
       "      <td>0.013547</td>\n",
       "    </tr>\n",
       "    <tr>\n",
       "      <th>11</th>\n",
       "      <td>0.049859</td>\n",
       "      <td>0.311085</td>\n",
       "    </tr>\n",
       "  </tbody>\n",
       "</table>\n",
       "</div>"
      ],
      "text/plain": [
       "           C         D\n",
       "0   0.630600  0.984929\n",
       "1   0.792452  0.430603\n",
       "2   0.959195  0.042331\n",
       "3   0.349234  0.272545\n",
       "4   0.303237  0.792761\n",
       "5   0.414066  0.203361\n",
       "6   0.325668  0.689817\n",
       "7   0.041456  0.265272\n",
       "8   0.826685  0.582693\n",
       "9   0.144434  0.945948\n",
       "10  0.749505  0.013547\n",
       "11  0.049859  0.311085"
      ]
     },
     "execution_count": 16,
     "metadata": {},
     "output_type": "execute_result"
    }
   ],
   "source": [
    "dataf.iloc[0:12, 2:4]"
   ]
  },
  {
   "cell_type": "markdown",
   "metadata": {},
   "source": [
    "03. Matplotlib\n",
    "\n",
    "Example 01\n",
    "Use plot and show function to create and show the graph"
   ]
  },
  {
   "cell_type": "code",
   "execution_count": 17,
   "metadata": {},
   "outputs": [
    {
     "name": "stdout",
     "output_type": "stream",
     "text": [
      "[ 1  2  3  4  5  6  7  8  9 10]\n"
     ]
    },
    {
     "data": {
      "image/png": "[encoded data removed]",
      "text/plain": [
       "<Figure size 640x480 with 1 Axes>"
      ]
     },
     "metadata": {},
     "output_type": "display_data"
    }
   ],
   "source": [
    "import numpy as np\n",
    "import matplotlib.pyplot as plt\n",
    "\n",
    "x = np.array((1,2,3,4,5,6,7,8,9,10))\n",
    "y = x**2\n",
    "\n",
    "print(x)\n",
    "\n",
    "plt.plot(x,y)\n",
    "plt.show()"
   ]
  },
  {
   "cell_type": "markdown",
   "metadata": {},
   "source": [
    "Example 02\n",
    "Add labels and tittle to the graph"
   ]
  },
  {
   "cell_type": "code",
   "execution_count": 18,
   "metadata": {},
   "outputs": [
    {
     "name": "stdout",
     "output_type": "stream",
     "text": [
      "[ 1  2  3  4  5  6  7  8  9 10]\n"
     ]
    },
    {
     "data": {
      "image/png": "[encoded data removed]",
      "text/plain": [
       "<Figure size 640x480 with 1 Axes>"
      ]
     },
     "metadata": {},
     "output_type": "display_data"
    }
   ],
   "source": [
    "import numpy as np\n",
    "import matplotlib.pyplot as plt\n",
    "\n",
    "x = np.array((1,2,3,4,5,6,7,8,9,10))\n",
    "y = x**2\n",
    "\n",
    "print(x)\n",
    "\n",
    "plt.plot(x,y)\n",
    "plt.xlabel('x-axis')\n",
    "plt.ylabel('y-axis')\n",
    "plt.title(\"y = x^2\")\n",
    "plt.show()"
   ]
  },
  {
   "cell_type": "markdown",
   "metadata": {},
   "source": [
    "Exampel 03\n",
    "Plot 3 variables on a single graph"
   ]
  },
  {
   "cell_type": "code",
   "execution_count": 19,
   "metadata": {},
   "outputs": [
    {
     "name": "stdout",
     "output_type": "stream",
     "text": [
      "[ 1  2  3  4  5  6  7  8  9 10]\n",
      "[  1   4   9  16  25  36  49  64  81 100]\n",
      "[ 5  6  7  8  9 10 11 12 13 14]\n"
     ]
    },
    {
     "data": {
      "image/png": "[encoded data removed]",
      "text/plain": [
       "<Figure size 640x480 with 1 Axes>"
      ]
     },
     "metadata": {},
     "output_type": "display_data"
    }
   ],
   "source": [
    "import numpy as np\n",
    "import matplotlib.pyplot as plt\n",
    "\n",
    "x = np.array((1,2,3,4,5,6,7,8,9,10))\n",
    "y = x**2\n",
    "z = x + 4\n",
    "\n",
    "print(f\"{x}\\n{y}\\n{z}\")\n",
    "\n",
    "plt.plot(x,x)\n",
    "plt.plot(x,y)\n",
    "plt.plot(x,z)\n",
    "plt.xlabel('x-axis')\n",
    "plt.ylabel('y-axis')\n",
    "plt.title(\"Plotting the x, y adn z\")\n",
    "plt.show()"
   ]
  },
  {
   "cell_type": "markdown",
   "metadata": {},
   "source": [
    "Example 04\n",
    "Change the color linestyle and linewidth of the graph"
   ]
  },
  {
   "cell_type": "code",
   "execution_count": 20,
   "metadata": {},
   "outputs": [
    {
     "name": "stdout",
     "output_type": "stream",
     "text": [
      "[ 1  2  3  4  5  6  7  8  9 10]\n",
      "[  1   4   9  16  25  36  49  64  81 100]\n",
      "[ 5  6  7  8  9 10 11 12 13 14]\n"
     ]
    },
    {
     "data": {
      "image/png": "[encoded data removed]",
      "text/plain": [
       "<Figure size 640x480 with 1 Axes>"
      ]
     },
     "metadata": {},
     "output_type": "display_data"
    }
   ],
   "source": [
    "import numpy as np\n",
    "import matplotlib.pyplot as plt\n",
    "\n",
    "x = np.array((1,2,3,4,5,6,7,8,9,10))\n",
    "y = x**2\n",
    "z = x + 4\n",
    "\n",
    "print(f\"{x}\\n{y}\\n{z}\")\n",
    "\n",
    "plt.plot(x,x)\n",
    "plt.plot(x,y, color='g', linestyle = ':', linewidth=15)\n",
    "plt.plot(x,z)\n",
    "plt.xlabel('x-axis')\n",
    "plt.ylabel('y-axis')\n",
    "plt.title(\"Plotting the x, y adn z\")\n",
    "plt.show()"
   ]
  },
  {
   "cell_type": "markdown",
   "metadata": {},
   "source": [
    "Example 05\n",
    "Plot using subplot"
   ]
  },
  {
   "cell_type": "code",
   "execution_count": 21,
   "metadata": {},
   "outputs": [
    {
     "name": "stdout",
     "output_type": "stream",
     "text": [
      "[ 1  2  3  4  5  6  7  8  9 10]\n",
      "[  1   4   9  16  25  36  49  64  81 100]\n",
      "[ 5  6  7  8  9 10 11 12 13 14]\n"
     ]
    },
    {
     "data": {
      "image/png": "[encoded data removed]",
      "text/plain": [
       "<Figure size 1000x500 with 3 Axes>"
      ]
     },
     "metadata": {},
     "output_type": "display_data"
    }
   ],
   "source": [
    "import numpy as np\n",
    "import matplotlib.pyplot as plt\n",
    "\n",
    "x = np.array((1,2,3,4,5,6,7,8,9,10))\n",
    "y = x**2\n",
    "z = x + 4\n",
    "\n",
    "print(f\"{x}\\n{y}\\n{z}\")\n",
    "\n",
    "plt.figure(figsize=(10,5))\n",
    "\n",
    "plt.subplot(1,3,1)\n",
    "plt.plot(x,x)\n",
    "\n",
    "plt.subplot(1,3,2)\n",
    "plt.plot(x,y, color='g', linestyle = ':', linewidth=15)\n",
    "\n",
    "plt.subplot(1,3,3)\n",
    "plt.plot(x,z)\n",
    "plt.xlabel('x-axis')\n",
    "plt.ylabel('y-axis')\n",
    "plt.title(\"Plotting the x, y adn z\")\n",
    "plt.show()"
   ]
  },
  {
   "cell_type": "markdown",
   "metadata": {},
   "source": [
    "Example 06\n",
    "Print the marks of students w.r.t their names using Dictionary"
   ]
  },
  {
   "cell_type": "code",
   "execution_count": 22,
   "metadata": {},
   "outputs": [
    {
     "name": "stdout",
     "output_type": "stream",
     "text": [
      "{'Ali': 25, 'Bilal': 20, 'Zahra': 19, 'Qayyum': 25, 'Alia': 15, 'Salman': 23}\n"
     ]
    },
    {
     "data": {
      "image/png": "[encoded data removed]",
      "text/plain": [
       "<Figure size 640x480 with 1 Axes>"
      ]
     },
     "metadata": {},
     "output_type": "display_data"
    }
   ],
   "source": [
    "stuMarks = {\"Ali\": 25, \"Bilal\": 20, \"Zahra\": 19, \"Qayyum\": 25, \"Alia\": 15, \"Salman\": 23}\n",
    "print(stuMarks)\n",
    "\n",
    "k = stuMarks.keys()\n",
    "v = stuMarks.values()\n",
    "\n",
    "plt.title(\"Student Marks\")\n",
    "plt.xlabel(\"Names\")\n",
    "plt.ylabel(\"Marks\")\n",
    "plt.bar(k,v)\n",
    "plt.show()"
   ]
  },
  {
   "cell_type": "markdown",
   "metadata": {},
   "source": [
    "Example 07\n",
    "Plot horizonatal bar garaph"
   ]
  },
  {
   "cell_type": "code",
   "execution_count": 23,
   "metadata": {},
   "outputs": [
    {
     "name": "stdout",
     "output_type": "stream",
     "text": [
      "{'Ali': 25, 'Bilal': 20, 'Zahra': 19, 'Qayyum': 25, 'Alia': 15, 'Salman': 23}\n"
     ]
    },
    {
     "data": {
      "image/png": "[encoded data removed]",
      "text/plain": [
       "<Figure size 640x480 with 1 Axes>"
      ]
     },
     "metadata": {},
     "output_type": "display_data"
    }
   ],
   "source": [
    "stuMarks = {\"Ali\": 25, \"Bilal\": 20, \"Zahra\": 19, \"Qayyum\": 25, \"Alia\": 15, \"Salman\": 23}\n",
    "print(stuMarks)\n",
    "\n",
    "k = list(stuMarks.keys())\n",
    "v = list(stuMarks.values())\n",
    "\n",
    "plt.title(\"Student Marks\")\n",
    "plt.xlabel(\"Names\")\n",
    "plt.ylabel(\"Marks\")\n",
    "plt.barh(k,v)\n",
    "plt.show()"
   ]
  },
  {
   "cell_type": "markdown",
   "metadata": {},
   "source": [
    "Example 08\n",
    "Bold the tittle and xlabel y label and also show the value of yaxis on top of bars"
   ]
  },
  {
   "cell_type": "code",
   "execution_count": 24,
   "metadata": {},
   "outputs": [
    {
     "name": "stdout",
     "output_type": "stream",
     "text": [
      "{'Ali': 25, 'Bilal': 20, 'Zahra': 19, 'Qayyum': 25, 'Alia': 15, 'Salman': 23}\n"
     ]
    },
    {
     "data": {
      "image/png": "[encoded data removed]",
      "text/plain": [
       "<Figure size 800x600 with 1 Axes>"
      ]
     },
     "metadata": {},
     "output_type": "display_data"
    }
   ],
   "source": [
    "import matplotlib.pyplot as plt\n",
    "\n",
    "stuMarks = {\"Ali\": 25, \"Bilal\": 20, \"Zahra\": 19, \"Qayyum\": 25, \"Alia\": 15, \"Salman\": 23}\n",
    "print(stuMarks)\n",
    "\n",
    "k = stuMarks.keys()\n",
    "v = stuMarks.values()\n",
    "\n",
    "plt.figure(figsize=(8, 6))  # Set the figure size\n",
    "\n",
    "# Plot the bar chart\n",
    "plt.bar(k, v)\n",
    "\n",
    "# Customize the plot\n",
    "plt.title(\"Student Marks\", fontweight=\"bold\")  # Make the title bold\n",
    "plt.xlabel(\"Names\", fontweight=\"bold\")  # Make xlabel bold\n",
    "plt.ylabel(\"Marks\", fontweight=\"bold\")  # Make ylabel bold\n",
    "\n",
    "# Annotate the values on top of the bars\n",
    "for key, value in stuMarks.items():\n",
    "    plt.text(key, value + 0.5, str(value), ha='center', va='bottom', fontweight='bold')\n",
    "\n",
    "plt.show()"
   ]
  },
  {
   "cell_type": "markdown",
   "metadata": {},
   "source": [
    "Example 09\n",
    "Plot using scatter function"
   ]
  },
  {
   "cell_type": "code",
   "execution_count": 25,
   "metadata": {},
   "outputs": [
    {
     "name": "stdout",
     "output_type": "stream",
     "text": [
      "{'Ali': 25, 'Bilal': 20, 'Zahra': 19, 'Qayyum': 25, 'Alia': 15, 'Salman': 23}\n"
     ]
    },
    {
     "data": {
      "image/png": "[encoded data removed]",
      "text/plain": [
       "<Figure size 640x480 with 1 Axes>"
      ]
     },
     "metadata": {},
     "output_type": "display_data"
    }
   ],
   "source": [
    "import matplotlib.pyplot as plt\n",
    "\n",
    "stuMarks = {\"Ali\": 25, \"Bilal\": 20, \"Zahra\": 19, \"Qayyum\": 25, \"Alia\": 15, \"Salman\": 23}\n",
    "print(stuMarks)\n",
    "\n",
    "k = stuMarks.keys()\n",
    "v = stuMarks.values()\n",
    "\n",
    "plt.scatter(k,v, color = 'r', marker=\"*\", s = 40)\n",
    "plt.show()"
   ]
  },
  {
   "cell_type": "markdown",
   "metadata": {},
   "source": [
    "Example 10\n",
    "Plot a histogram"
   ]
  },
  {
   "cell_type": "code",
   "execution_count": 26,
   "metadata": {},
   "outputs": [
    {
     "data": {
      "image/png": "[encoded data removed]",
      "text/plain": [
       "<Figure size 640x480 with 1 Axes>"
      ]
     },
     "metadata": {},
     "output_type": "display_data"
    }
   ],
   "source": [
    "a = [1,2,3,4,5,6,7,8,9,4,6,8,2,3,1,1,6,8,9,3,4,2,1,1,2,3,4,5,7]\n",
    "\n",
    "plt.hist(a, bins=20, color='g')\n",
    "plt.show()"
   ]
  },
  {
   "cell_type": "code",
   "execution_count": null,
   "metadata": {},
   "outputs": [],
   "source": []
  },
  {
   "cell_type": "markdown",
   "metadata": {},
   "source": [
    "Example 11\n",
    "Demonstrate the use of Box Plot\n",
    "\n",
    "A Box Plot is also known as Whisker plot is created to display the summary of the set of data values having properties like minimum, first quartile, median, third quartile and maximum. In the box plot, a box is created from the first quartile to the third quartile, a vertical line is also there which goes through the box at the median. Here x-axis denotes the data to be plotted while the y-axis shows the frequency distribution."
   ]
  },
  {
   "cell_type": "code",
   "execution_count": 27,
   "metadata": {},
   "outputs": [
    {
     "data": {
      "image/png": "[encoded data removed]",
      "text/plain": [
       "<Figure size 640x480 with 1 Axes>"
      ]
     },
     "metadata": {},
     "output_type": "display_data"
    }
   ],
   "source": [
    "l1 = [1,2,3,4,5,6,7,8,9,10]\n",
    "l2 = [3,4,5,6,7,1,2,8,9,1]\n",
    "l3 = [1,2,3,4,1,2,3,4,5,6]\n",
    "\n",
    "data = list([l1,l2,l3])\n",
    "\n",
    "plt.boxplot(data)\n",
    "plt.show()"
   ]
  },
  {
   "cell_type": "markdown",
   "metadata": {},
   "source": [
    "Example 12\n",
    "Demonstrate the use of violin plot"
   ]
  },
  {
   "cell_type": "code",
   "execution_count": 28,
   "metadata": {},
   "outputs": [
    {
     "data": {
      "image/png": "[encoded data removed]",
      "text/plain": [
       "<Figure size 640x480 with 1 Axes>"
      ]
     },
     "metadata": {},
     "output_type": "display_data"
    }
   ],
   "source": [
    "l1 = [1,2,3,4,5,6,7,8,9,10]\n",
    "l2 = [3,8,9,6,7,1,2,8,9,1]\n",
    "l3 = [1,2,3,4,1,2,3,4,5,6]\n",
    "\n",
    "data = list([l1,l2,l3])\n",
    "\n",
    "plt.violinplot(data)\n",
    "plt.show()"
   ]
  },
  {
   "cell_type": "markdown",
   "metadata": {},
   "source": [
    "Example 13\n",
    "Show the example of pie plot"
   ]
  },
  {
   "cell_type": "code",
   "execution_count": 29,
   "metadata": {},
   "outputs": [
    {
     "name": "stdout",
     "output_type": "stream",
     "text": [
      "{'Ali': 25, 'Bilal': 20, 'Zahra': 19, 'Qayyum': 25, 'Alia': 15, 'Salman': 23}\n"
     ]
    },
    {
     "data": {
      "image/png": "[encoded data removed]",
      "text/plain": [
       "<Figure size 640x480 with 1 Axes>"
      ]
     },
     "metadata": {},
     "output_type": "display_data"
    }
   ],
   "source": [
    "import matplotlib.pyplot as plt\n",
    "\n",
    "stuMarks = {\"Ali\": 25, \"Bilal\": 20, \"Zahra\": 19, \"Qayyum\": 25, \"Alia\": 15, \"Salman\": 23}\n",
    "print(stuMarks)\n",
    "\n",
    "k = stuMarks.keys()\n",
    "v = stuMarks.values()\n",
    "\n",
    "plt.pie(v,labels=k, autopct='%1.1f%%', startangle=140)\n",
    "plt.axis('equal')\n",
    "\n",
    "plt.show()"
   ]
  },
  {
   "cell_type": "markdown",
   "metadata": {},
   "source": []
  }
 ],
 "metadata": {
  "kernelspec": {
   "display_name": "base",
   "language": "python",
   "name": "python3"
  },
  "language_info": {
   "codemirror_mode": {
    "name": "ipython",
    "version": 3
   },
   "file_extension": ".py",
   "mimetype": "text/x-python",
   "name": "python",
   "nbconvert_exporter": "python",
   "pygments_lexer": "ipython3",
   "version": "3.11.5"
  },
  "orig_nbformat": 4
 },
 "nbformat": 4,
 "nbformat_minor": 2
}
